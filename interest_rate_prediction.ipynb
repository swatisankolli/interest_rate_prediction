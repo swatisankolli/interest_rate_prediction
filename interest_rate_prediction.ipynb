{
 "cells": [
  {
   "cell_type": "markdown",
   "metadata": {},
   "source": [
    "# Interest Rate Prediction"
   ]
  },
  {
   "cell_type": "markdown",
   "metadata": {},
   "source": [
    "## Case Study"
   ]
  },
  {
   "cell_type": "markdown",
   "metadata": {},
   "source": [
    "This data belongs to a loan aggregator agency which connects loan applications to different financial institutions in attempt to get the best interest rate. They want to now utilise past data to predict interest rate given by any financial institute just by looking at loan application characteristics.\n",
    "\n",
    "To achieve that , they have decided to do a POC with a data from a particular financial institution. The data is given in the file \"loans data.csv\". Lets begin: "
   ]
  },
  {
   "cell_type": "markdown",
   "metadata": {},
   "source": [
    "## Step 0: Basic Imports"
   ]
  },
  {
   "cell_type": "code",
   "execution_count": 43,
   "metadata": {},
   "outputs": [],
   "source": [
    "import pandas as pd \n",
    "import numpy as np\n",
    "import matplotlib.pyplot as plt\n",
    "import seaborn as sns"
   ]
  },
  {
   "cell_type": "markdown",
   "metadata": {},
   "source": [
    "## Step 1: Load dataset"
   ]
  },
  {
   "cell_type": "code",
   "execution_count": 2,
   "metadata": {},
   "outputs": [],
   "source": [
    "train_file='data/loan_data_train.csv' #relative path. So in present working directory it will look for data folder.\n",
    "test_file='data/loan_data_test.csv'\n",
    "\n",
    "df_train=pd.read_csv(train_file) #read_csv is a function in pandas.\n",
    "df_test=pd.read_csv(test_file)               "
   ]
  },
  {
   "cell_type": "code",
   "execution_count": 3,
   "metadata": {},
   "outputs": [
    {
     "name": "stdout",
     "output_type": "stream",
     "text": [
      "(2200, 15)\n"
     ]
    },
    {
     "data": {
      "text/html": [
       "<div>\n",
       "<style scoped>\n",
       "    .dataframe tbody tr th:only-of-type {\n",
       "        vertical-align: middle;\n",
       "    }\n",
       "\n",
       "    .dataframe tbody tr th {\n",
       "        vertical-align: top;\n",
       "    }\n",
       "\n",
       "    .dataframe thead th {\n",
       "        text-align: right;\n",
       "    }\n",
       "</style>\n",
       "<table border=\"1\" class=\"dataframe\">\n",
       "  <thead>\n",
       "    <tr style=\"text-align: right;\">\n",
       "      <th></th>\n",
       "      <th>ID</th>\n",
       "      <th>Amount.Requested</th>\n",
       "      <th>Amount.Funded.By.Investors</th>\n",
       "      <th>Interest.Rate</th>\n",
       "      <th>Loan.Length</th>\n",
       "      <th>Loan.Purpose</th>\n",
       "      <th>Debt.To.Income.Ratio</th>\n",
       "      <th>State</th>\n",
       "      <th>Home.Ownership</th>\n",
       "      <th>Monthly.Income</th>\n",
       "      <th>FICO.Range</th>\n",
       "      <th>Open.CREDIT.Lines</th>\n",
       "      <th>Revolving.CREDIT.Balance</th>\n",
       "      <th>Inquiries.in.the.Last.6.Months</th>\n",
       "      <th>Employment.Length</th>\n",
       "    </tr>\n",
       "  </thead>\n",
       "  <tbody>\n",
       "    <tr>\n",
       "      <th>0</th>\n",
       "      <td>79542.0</td>\n",
       "      <td>25000</td>\n",
       "      <td>25000</td>\n",
       "      <td>18.49%</td>\n",
       "      <td>60 months</td>\n",
       "      <td>debt_consolidation</td>\n",
       "      <td>27.56%</td>\n",
       "      <td>VA</td>\n",
       "      <td>MORTGAGE</td>\n",
       "      <td>8606.56</td>\n",
       "      <td>720-724</td>\n",
       "      <td>11</td>\n",
       "      <td>15210</td>\n",
       "      <td>3.0</td>\n",
       "      <td>5 years</td>\n",
       "    </tr>\n",
       "    <tr>\n",
       "      <th>1</th>\n",
       "      <td>75473.0</td>\n",
       "      <td>19750</td>\n",
       "      <td>19750</td>\n",
       "      <td>17.27%</td>\n",
       "      <td>60 months</td>\n",
       "      <td>debt_consolidation</td>\n",
       "      <td>13.39%</td>\n",
       "      <td>NY</td>\n",
       "      <td>MORTGAGE</td>\n",
       "      <td>6737.50</td>\n",
       "      <td>710-714</td>\n",
       "      <td>14</td>\n",
       "      <td>19070</td>\n",
       "      <td>3.0</td>\n",
       "      <td>4 years</td>\n",
       "    </tr>\n",
       "    <tr>\n",
       "      <th>2</th>\n",
       "      <td>67265.0</td>\n",
       "      <td>2100</td>\n",
       "      <td>2100</td>\n",
       "      <td>14.33%</td>\n",
       "      <td>36 months</td>\n",
       "      <td>major_purchase</td>\n",
       "      <td>3.50%</td>\n",
       "      <td>LA</td>\n",
       "      <td>OWN</td>\n",
       "      <td>1000.00</td>\n",
       "      <td>690-694</td>\n",
       "      <td>13</td>\n",
       "      <td>893</td>\n",
       "      <td>1.0</td>\n",
       "      <td>&lt; 1 year</td>\n",
       "    </tr>\n",
       "    <tr>\n",
       "      <th>3</th>\n",
       "      <td>80167.0</td>\n",
       "      <td>28000</td>\n",
       "      <td>28000</td>\n",
       "      <td>16.29%</td>\n",
       "      <td>36 months</td>\n",
       "      <td>credit_card</td>\n",
       "      <td>19.62%</td>\n",
       "      <td>NV</td>\n",
       "      <td>MORTGAGE</td>\n",
       "      <td>7083.33</td>\n",
       "      <td>710-714</td>\n",
       "      <td>12</td>\n",
       "      <td>38194</td>\n",
       "      <td>1.0</td>\n",
       "      <td>10+ years</td>\n",
       "    </tr>\n",
       "    <tr>\n",
       "      <th>4</th>\n",
       "      <td>17240.0</td>\n",
       "      <td>24250</td>\n",
       "      <td>17431.82</td>\n",
       "      <td>12.23%</td>\n",
       "      <td>60 months</td>\n",
       "      <td>credit_card</td>\n",
       "      <td>23.79%</td>\n",
       "      <td>OH</td>\n",
       "      <td>MORTGAGE</td>\n",
       "      <td>5833.33</td>\n",
       "      <td>730-734</td>\n",
       "      <td>6</td>\n",
       "      <td>31061</td>\n",
       "      <td>2.0</td>\n",
       "      <td>10+ years</td>\n",
       "    </tr>\n",
       "  </tbody>\n",
       "</table>\n",
       "</div>"
      ],
      "text/plain": [
       "        ID Amount.Requested Amount.Funded.By.Investors Interest.Rate  \\\n",
       "0  79542.0            25000                      25000        18.49%   \n",
       "1  75473.0            19750                      19750        17.27%   \n",
       "2  67265.0             2100                       2100        14.33%   \n",
       "3  80167.0            28000                      28000        16.29%   \n",
       "4  17240.0            24250                   17431.82        12.23%   \n",
       "\n",
       "  Loan.Length        Loan.Purpose Debt.To.Income.Ratio State Home.Ownership  \\\n",
       "0   60 months  debt_consolidation               27.56%    VA       MORTGAGE   \n",
       "1   60 months  debt_consolidation               13.39%    NY       MORTGAGE   \n",
       "2   36 months      major_purchase                3.50%    LA            OWN   \n",
       "3   36 months         credit_card               19.62%    NV       MORTGAGE   \n",
       "4   60 months         credit_card               23.79%    OH       MORTGAGE   \n",
       "\n",
       "   Monthly.Income FICO.Range Open.CREDIT.Lines Revolving.CREDIT.Balance  \\\n",
       "0         8606.56    720-724                11                    15210   \n",
       "1         6737.50    710-714                14                    19070   \n",
       "2         1000.00    690-694                13                      893   \n",
       "3         7083.33    710-714                12                    38194   \n",
       "4         5833.33    730-734                 6                    31061   \n",
       "\n",
       "   Inquiries.in.the.Last.6.Months Employment.Length  \n",
       "0                             3.0           5 years  \n",
       "1                             3.0           4 years  \n",
       "2                             1.0          < 1 year  \n",
       "3                             1.0         10+ years  \n",
       "4                             2.0         10+ years  "
      ]
     },
     "execution_count": 3,
     "metadata": {},
     "output_type": "execute_result"
    }
   ],
   "source": [
    "print(df_train.shape) #check no of rows (ie the no of data points) and cols (ie the no of features)\n",
    "df_train.head() #display the first 5 columns in your dataset"
   ]
  },
  {
   "cell_type": "markdown",
   "metadata": {},
   "source": [
    "14 features and 1 target variable"
   ]
  },
  {
   "cell_type": "code",
   "execution_count": 4,
   "metadata": {
    "scrolled": true
   },
   "outputs": [
    {
     "name": "stdout",
     "output_type": "stream",
     "text": [
      "(300, 14)\n"
     ]
    },
    {
     "data": {
      "text/html": [
       "<div>\n",
       "<style scoped>\n",
       "    .dataframe tbody tr th:only-of-type {\n",
       "        vertical-align: middle;\n",
       "    }\n",
       "\n",
       "    .dataframe tbody tr th {\n",
       "        vertical-align: top;\n",
       "    }\n",
       "\n",
       "    .dataframe thead th {\n",
       "        text-align: right;\n",
       "    }\n",
       "</style>\n",
       "<table border=\"1\" class=\"dataframe\">\n",
       "  <thead>\n",
       "    <tr style=\"text-align: right;\">\n",
       "      <th></th>\n",
       "      <th>ID</th>\n",
       "      <th>Amount.Requested</th>\n",
       "      <th>Amount.Funded.By.Investors</th>\n",
       "      <th>Loan.Length</th>\n",
       "      <th>Loan.Purpose</th>\n",
       "      <th>Debt.To.Income.Ratio</th>\n",
       "      <th>State</th>\n",
       "      <th>Home.Ownership</th>\n",
       "      <th>Monthly.Income</th>\n",
       "      <th>FICO.Range</th>\n",
       "      <th>Open.CREDIT.Lines</th>\n",
       "      <th>Revolving.CREDIT.Balance</th>\n",
       "      <th>Inquiries.in.the.Last.6.Months</th>\n",
       "      <th>Employment.Length</th>\n",
       "    </tr>\n",
       "  </thead>\n",
       "  <tbody>\n",
       "    <tr>\n",
       "      <th>0</th>\n",
       "      <td>20093</td>\n",
       "      <td>5000</td>\n",
       "      <td>5000</td>\n",
       "      <td>60 months</td>\n",
       "      <td>moving</td>\n",
       "      <td>12.59%</td>\n",
       "      <td>NY</td>\n",
       "      <td>RENT</td>\n",
       "      <td>4416.67</td>\n",
       "      <td>690-694</td>\n",
       "      <td>13</td>\n",
       "      <td>7686</td>\n",
       "      <td>0</td>\n",
       "      <td>&lt; 1 year</td>\n",
       "    </tr>\n",
       "    <tr>\n",
       "      <th>1</th>\n",
       "      <td>62445</td>\n",
       "      <td>18000</td>\n",
       "      <td>18000</td>\n",
       "      <td>60 months</td>\n",
       "      <td>debt_consolidation</td>\n",
       "      <td>4.93%</td>\n",
       "      <td>CA</td>\n",
       "      <td>RENT</td>\n",
       "      <td>5258.50</td>\n",
       "      <td>710-714</td>\n",
       "      <td>6</td>\n",
       "      <td>11596</td>\n",
       "      <td>0</td>\n",
       "      <td>10+ years</td>\n",
       "    </tr>\n",
       "    <tr>\n",
       "      <th>2</th>\n",
       "      <td>65248</td>\n",
       "      <td>7200</td>\n",
       "      <td>7200</td>\n",
       "      <td>60 months</td>\n",
       "      <td>debt_consolidation</td>\n",
       "      <td>25.16%</td>\n",
       "      <td>LA</td>\n",
       "      <td>MORTGAGE</td>\n",
       "      <td>3750.00</td>\n",
       "      <td>750-754</td>\n",
       "      <td>13</td>\n",
       "      <td>7283</td>\n",
       "      <td>0</td>\n",
       "      <td>6 years</td>\n",
       "    </tr>\n",
       "    <tr>\n",
       "      <th>3</th>\n",
       "      <td>81822</td>\n",
       "      <td>7200</td>\n",
       "      <td>7200</td>\n",
       "      <td>36 months</td>\n",
       "      <td>debt_consolidation</td>\n",
       "      <td>17.27%</td>\n",
       "      <td>NY</td>\n",
       "      <td>MORTGAGE</td>\n",
       "      <td>3416.67</td>\n",
       "      <td>790-794</td>\n",
       "      <td>14</td>\n",
       "      <td>4838</td>\n",
       "      <td>0</td>\n",
       "      <td>10+ years</td>\n",
       "    </tr>\n",
       "    <tr>\n",
       "      <th>4</th>\n",
       "      <td>57923</td>\n",
       "      <td>22000</td>\n",
       "      <td>22000</td>\n",
       "      <td>60 months</td>\n",
       "      <td>debt_consolidation</td>\n",
       "      <td>18.28%</td>\n",
       "      <td>MI</td>\n",
       "      <td>MORTGAGE</td>\n",
       "      <td>6083.33</td>\n",
       "      <td>720-724</td>\n",
       "      <td>9</td>\n",
       "      <td>20181</td>\n",
       "      <td>0</td>\n",
       "      <td>8 years</td>\n",
       "    </tr>\n",
       "  </tbody>\n",
       "</table>\n",
       "</div>"
      ],
      "text/plain": [
       "      ID  Amount.Requested Amount.Funded.By.Investors Loan.Length  \\\n",
       "0  20093              5000                       5000   60 months   \n",
       "1  62445             18000                      18000   60 months   \n",
       "2  65248              7200                       7200   60 months   \n",
       "3  81822              7200                       7200   36 months   \n",
       "4  57923             22000                      22000   60 months   \n",
       "\n",
       "         Loan.Purpose Debt.To.Income.Ratio State Home.Ownership  \\\n",
       "0              moving               12.59%    NY           RENT   \n",
       "1  debt_consolidation                4.93%    CA           RENT   \n",
       "2  debt_consolidation               25.16%    LA       MORTGAGE   \n",
       "3  debt_consolidation               17.27%    NY       MORTGAGE   \n",
       "4  debt_consolidation               18.28%    MI       MORTGAGE   \n",
       "\n",
       "   Monthly.Income FICO.Range Open.CREDIT.Lines  Revolving.CREDIT.Balance  \\\n",
       "0         4416.67    690-694                13                      7686   \n",
       "1         5258.50    710-714                 6                     11596   \n",
       "2         3750.00    750-754                13                      7283   \n",
       "3         3416.67    790-794                14                      4838   \n",
       "4         6083.33    720-724                 9                     20181   \n",
       "\n",
       "   Inquiries.in.the.Last.6.Months Employment.Length  \n",
       "0                               0          < 1 year  \n",
       "1                               0         10+ years  \n",
       "2                               0           6 years  \n",
       "3                               0         10+ years  \n",
       "4                               0           8 years  "
      ]
     },
     "execution_count": 4,
     "metadata": {},
     "output_type": "execute_result"
    }
   ],
   "source": [
    "#test data does not have interest rate\n",
    "print(df_test.shape)\n",
    "df_test.head()"
   ]
  },
  {
   "cell_type": "markdown",
   "metadata": {},
   "source": [
    "## Step 2: Data Visualisation and Feature Selection"
   ]
  },
  {
   "cell_type": "markdown",
   "metadata": {},
   "source": [
    "### Check dtypes"
   ]
  },
  {
   "cell_type": "code",
   "execution_count": 5,
   "metadata": {},
   "outputs": [
    {
     "data": {
      "text/plain": [
       "array([dtype('float64'), dtype('O')], dtype=object)"
      ]
     },
     "execution_count": 5,
     "metadata": {},
     "output_type": "execute_result"
    }
   ],
   "source": [
    "#df_train.dtypes #this will return a list of the columns and their respective dtypes\n",
    "df_train.dtypes.unique() #will give the unique dtypes in my dataset"
   ]
  },
  {
   "cell_type": "code",
   "execution_count": 6,
   "metadata": {},
   "outputs": [
    {
     "data": {
      "text/plain": [
       "(Index(['Amount.Requested', 'Amount.Funded.By.Investors', 'Interest.Rate',\n",
       "        'Loan.Length', 'Loan.Purpose', 'Debt.To.Income.Ratio', 'State',\n",
       "        'Home.Ownership', 'FICO.Range', 'Open.CREDIT.Lines',\n",
       "        'Revolving.CREDIT.Balance', 'Employment.Length'],\n",
       "       dtype='object'), 12)"
      ]
     },
     "execution_count": 6,
     "metadata": {},
     "output_type": "execute_result"
    }
   ],
   "source": [
    "#df_train.select_dtypes(\"object\") --> this will return a dataframe with only object type columns\n",
    "obj_cols = df_train.select_dtypes(\"object\").columns\n",
    "obj_cols, len(obj_cols)"
   ]
  },
  {
   "cell_type": "markdown",
   "metadata": {},
   "source": [
    "Dtypes for 12 feature has to be fixed"
   ]
  },
  {
   "cell_type": "code",
   "execution_count": 7,
   "metadata": {},
   "outputs": [
    {
     "data": {
      "text/html": [
       "<div>\n",
       "<style scoped>\n",
       "    .dataframe tbody tr th:only-of-type {\n",
       "        vertical-align: middle;\n",
       "    }\n",
       "\n",
       "    .dataframe tbody tr th {\n",
       "        vertical-align: top;\n",
       "    }\n",
       "\n",
       "    .dataframe thead th {\n",
       "        text-align: right;\n",
       "    }\n",
       "</style>\n",
       "<table border=\"1\" class=\"dataframe\">\n",
       "  <thead>\n",
       "    <tr style=\"text-align: right;\">\n",
       "      <th></th>\n",
       "      <th>Amount.Requested</th>\n",
       "      <th>Amount.Funded.By.Investors</th>\n",
       "      <th>Interest.Rate</th>\n",
       "      <th>Loan.Length</th>\n",
       "      <th>Loan.Purpose</th>\n",
       "      <th>Debt.To.Income.Ratio</th>\n",
       "      <th>State</th>\n",
       "      <th>Home.Ownership</th>\n",
       "      <th>FICO.Range</th>\n",
       "      <th>Open.CREDIT.Lines</th>\n",
       "      <th>Revolving.CREDIT.Balance</th>\n",
       "      <th>Employment.Length</th>\n",
       "    </tr>\n",
       "  </thead>\n",
       "  <tbody>\n",
       "    <tr>\n",
       "      <th>1211</th>\n",
       "      <td>8400</td>\n",
       "      <td>8400</td>\n",
       "      <td>6.92%</td>\n",
       "      <td>36 months</td>\n",
       "      <td>renewable_energy</td>\n",
       "      <td>13.30%</td>\n",
       "      <td>MD</td>\n",
       "      <td>RENT</td>\n",
       "      <td>745-749</td>\n",
       "      <td>9</td>\n",
       "      <td>6998</td>\n",
       "      <td>1 year</td>\n",
       "    </tr>\n",
       "    <tr>\n",
       "      <th>1061</th>\n",
       "      <td>20000</td>\n",
       "      <td>19900</td>\n",
       "      <td>18.17%</td>\n",
       "      <td>60 months</td>\n",
       "      <td>credit_card</td>\n",
       "      <td>9.72%</td>\n",
       "      <td>CA</td>\n",
       "      <td>MORTGAGE</td>\n",
       "      <td>685-689</td>\n",
       "      <td>8</td>\n",
       "      <td>106527</td>\n",
       "      <td>10+ years</td>\n",
       "    </tr>\n",
       "    <tr>\n",
       "      <th>1953</th>\n",
       "      <td>8000</td>\n",
       "      <td>7950</td>\n",
       "      <td>7.90%</td>\n",
       "      <td>36 months</td>\n",
       "      <td>home_improvement</td>\n",
       "      <td>12.54%</td>\n",
       "      <td>IL</td>\n",
       "      <td>MORTGAGE</td>\n",
       "      <td>725-729</td>\n",
       "      <td>8</td>\n",
       "      <td>6834</td>\n",
       "      <td>5 years</td>\n",
       "    </tr>\n",
       "    <tr>\n",
       "      <th>378</th>\n",
       "      <td>15000</td>\n",
       "      <td>15000</td>\n",
       "      <td>17.99%</td>\n",
       "      <td>36 months</td>\n",
       "      <td>debt_consolidation</td>\n",
       "      <td>21.04%</td>\n",
       "      <td>TX</td>\n",
       "      <td>MORTGAGE</td>\n",
       "      <td>675-679</td>\n",
       "      <td>13</td>\n",
       "      <td>5613</td>\n",
       "      <td>2 years</td>\n",
       "    </tr>\n",
       "    <tr>\n",
       "      <th>1351</th>\n",
       "      <td>15000</td>\n",
       "      <td>15000</td>\n",
       "      <td>6.99%</td>\n",
       "      <td>36 months</td>\n",
       "      <td>medical</td>\n",
       "      <td>6.64%</td>\n",
       "      <td>MO</td>\n",
       "      <td>MORTGAGE</td>\n",
       "      <td>810-814</td>\n",
       "      <td>12</td>\n",
       "      <td>1410</td>\n",
       "      <td>10+ years</td>\n",
       "    </tr>\n",
       "  </tbody>\n",
       "</table>\n",
       "</div>"
      ],
      "text/plain": [
       "     Amount.Requested Amount.Funded.By.Investors Interest.Rate Loan.Length  \\\n",
       "1211             8400                       8400         6.92%   36 months   \n",
       "1061            20000                      19900        18.17%   60 months   \n",
       "1953             8000                       7950         7.90%   36 months   \n",
       "378             15000                      15000        17.99%   36 months   \n",
       "1351            15000                      15000         6.99%   36 months   \n",
       "\n",
       "            Loan.Purpose Debt.To.Income.Ratio State Home.Ownership FICO.Range  \\\n",
       "1211    renewable_energy               13.30%    MD           RENT    745-749   \n",
       "1061         credit_card                9.72%    CA       MORTGAGE    685-689   \n",
       "1953    home_improvement               12.54%    IL       MORTGAGE    725-729   \n",
       "378   debt_consolidation               21.04%    TX       MORTGAGE    675-679   \n",
       "1351             medical                6.64%    MO       MORTGAGE    810-814   \n",
       "\n",
       "     Open.CREDIT.Lines Revolving.CREDIT.Balance Employment.Length  \n",
       "1211                 9                     6998            1 year  \n",
       "1061                 8                   106527         10+ years  \n",
       "1953                 8                     6834           5 years  \n",
       "378                 13                     5613           2 years  \n",
       "1351                12                     1410         10+ years  "
      ]
     },
     "execution_count": 7,
     "metadata": {},
     "output_type": "execute_result"
    }
   ],
   "source": [
    "df_train[obj_cols].sample(5) #slicing of dataframe-->dataframe[list_of_desired_cols]"
   ]
  },
  {
   "cell_type": "code",
   "execution_count": 8,
   "metadata": {},
   "outputs": [
    {
     "data": {
      "text/plain": [
       "36 months    1722\n",
       "60 months     476\n",
       ".               1\n",
       "Name: Loan.Length, dtype: int64"
      ]
     },
     "execution_count": 8,
     "metadata": {},
     "output_type": "execute_result"
    }
   ],
   "source": [
    "df_train[\"Loan.Length\"].value_counts() #unique value and the count of each value"
   ]
  },
  {
   "cell_type": "code",
   "execution_count": 9,
   "metadata": {},
   "outputs": [
    {
     "data": {
      "text/plain": [
       "debt_consolidation    1147\n",
       "credit_card            394\n",
       "other                  174\n",
       "home_improvement       135\n",
       "major_purchase          84\n",
       "small_business          80\n",
       "car                     45\n",
       "wedding                 35\n",
       "medical                 26\n",
       "moving                  25\n",
       "house                   19\n",
       "vacation                18\n",
       "educational             14\n",
       "renewable_energy         3\n",
       "Name: Loan.Purpose, dtype: int64"
      ]
     },
     "execution_count": 9,
     "metadata": {},
     "output_type": "execute_result"
    }
   ],
   "source": [
    "df_train[\"Loan.Purpose\"].value_counts()"
   ]
  },
  {
   "cell_type": "markdown",
   "metadata": {},
   "source": [
    "### Some observations"
   ]
  },
  {
   "cell_type": "markdown",
   "metadata": {},
   "source": [
    "1. 'Amount.Requested': **convert it to numeric**\n",
    "2. 'Amount.Funded.By.Investors': **drop**\n",
    "3. 'Interest.Rate': **remove % and then to numeric**\n",
    "4. 'Loan.Length': **dummies for categories**\n",
    "5. 'Loan.Purpose': **dummies for categories**\n",
    "6. 'Debt.To.Income.Ratio': **remove % and then to numeric**\n",
    "7. 'State': **dummies for categories**\n",
    "8. 'Home.Ownership': **dummies for categories**\n",
    "9. 'FICO.Range': **replace it by a numeric column which is average of the range**\n",
    "10. 'Open.CREDIT.Lines': **convert it to numeric**\n",
    "11. 'Revolving.CREDIT.Balance': **convert it to numeric**\n",
    "12. 'Employment.Length': **convert it to number**\n",
    "\n",
    "\n",
    "##### Lets group by operation:\n",
    "\n",
    "1. drop: \n",
    "    - ID \n",
    "    - Amount.Funded.By.Investors\n",
    "<br>\n",
    "2. convert it to numeric \n",
    "    - Amount.Requested\n",
    "    - Open.CREDIT.Lines\n",
    "    - Revolving.CREDIT.Balance\n",
    "<br>\n",
    "3. remove % and then to numeric\n",
    "    - Interest Rate\n",
    "    - Debt to income ratio\n",
    "<br>\n",
    "4. replace it by a numeric column which is average of the range\n",
    "    - FICO.Range \n",
    "<br>\n",
    "5. convert to number:\n",
    "    - Employment Length \n",
    "<br>\n",
    "6. dummies for categories with good occurence rate:\n",
    "    - Loan Lenth\n",
    "    - Loan Purpose\n",
    "    - State\n",
    "    - Home ownership"
   ]
  },
  {
   "cell_type": "markdown",
   "metadata": {},
   "source": [
    "### Fix Dtypes"
   ]
  },
  {
   "cell_type": "markdown",
   "metadata": {},
   "source": [
    "#### Operation 1"
   ]
  },
  {
   "cell_type": "code",
   "execution_count": 10,
   "metadata": {},
   "outputs": [],
   "source": [
    "df_train.drop(['ID','Amount.Funded.By.Investors'],axis=1,inplace=True)"
   ]
  },
  {
   "cell_type": "markdown",
   "metadata": {},
   "source": [
    "#### Operation 2"
   ]
  },
  {
   "cell_type": "markdown",
   "metadata": {},
   "source": [
    "We can see that many columns which should have really been numbers have been imported as character columns , probably because some characters values in those columns in the files. We'll convert all such columns to numbers ."
   ]
  },
  {
   "cell_type": "code",
   "execution_count": 11,
   "metadata": {},
   "outputs": [],
   "source": [
    "for col in ['Amount.Requested', 'Open.CREDIT.Lines','Revolving.CREDIT.Balance']:\n",
    "    df_train[col]=pd.to_numeric(df_train[col],errors='coerce') "
   ]
  },
  {
   "cell_type": "markdown",
   "metadata": {},
   "source": [
    "#### Operation 3"
   ]
  },
  {
   "cell_type": "markdown",
   "metadata": {},
   "source": [
    "variable `Interest.Rate` and `Debt.To.Income.Ratio` contain \"%\" sign in their values and because of which they have come as character columns in the data. Lets remove these percentages first."
   ]
  },
  {
   "cell_type": "code",
   "execution_count": 12,
   "metadata": {},
   "outputs": [
    {
     "name": "stdout",
     "output_type": "stream",
     "text": [
      "Interest.Rate\n",
      "Debt.To.Income.Ratio\n"
     ]
    }
   ],
   "source": [
    "for col in ['Interest.Rate','Debt.To.Income.Ratio']:\n",
    "    print(col)\n",
    "    df_train[col]=df_train[col].str.replace(\"%\",\"\") #first convert the row value to string type\n",
    "                                                    #and then perfrom replace operation"
   ]
  },
  {
   "cell_type": "code",
   "execution_count": 13,
   "metadata": {},
   "outputs": [
    {
     "data": {
      "text/plain": [
       "0    18.49\n",
       "1    17.27\n",
       "2    14.33\n",
       "3    16.29\n",
       "4    12.23\n",
       "Name: Interest.Rate, dtype: object"
      ]
     },
     "execution_count": 13,
     "metadata": {},
     "output_type": "execute_result"
    }
   ],
   "source": [
    "#Lets check the effect of replace operation\n",
    "df_train[\"Interest.Rate\"].head()"
   ]
  },
  {
   "cell_type": "code",
   "execution_count": 14,
   "metadata": {},
   "outputs": [],
   "source": [
    "#Now we can convert to numeric\n",
    "for col in ['Interest.Rate','Debt.To.Income.Ratio']:\n",
    "    df_train[col]=pd.to_numeric(df_train[col],errors='coerce') "
   ]
  },
  {
   "cell_type": "markdown",
   "metadata": {},
   "source": [
    "#### Operation 4"
   ]
  },
  {
   "cell_type": "markdown",
   "metadata": {},
   "source": [
    "If we look at first few values of variable FICO.Range , we can see that we can convert it to numeric by taking average of the range given. To do that first we need to split the column with \"-\", so that we can have both end of ranges in separate columns and then we can simply average them."
   ]
  },
  {
   "cell_type": "code",
   "execution_count": 15,
   "metadata": {},
   "outputs": [],
   "source": [
    "#\"660-770\".split(\"-\") #for understanding"
   ]
  },
  {
   "cell_type": "code",
   "execution_count": 16,
   "metadata": {},
   "outputs": [],
   "source": [
    "k=df_train['FICO.Range'].str.split(\"-\",expand=True).astype(float)"
   ]
  },
  {
   "cell_type": "code",
   "execution_count": 17,
   "metadata": {},
   "outputs": [
    {
     "data": {
      "text/html": [
       "<div>\n",
       "<style scoped>\n",
       "    .dataframe tbody tr th:only-of-type {\n",
       "        vertical-align: middle;\n",
       "    }\n",
       "\n",
       "    .dataframe tbody tr th {\n",
       "        vertical-align: top;\n",
       "    }\n",
       "\n",
       "    .dataframe thead th {\n",
       "        text-align: right;\n",
       "    }\n",
       "</style>\n",
       "<table border=\"1\" class=\"dataframe\">\n",
       "  <thead>\n",
       "    <tr style=\"text-align: right;\">\n",
       "      <th></th>\n",
       "      <th>0</th>\n",
       "      <th>1</th>\n",
       "    </tr>\n",
       "  </thead>\n",
       "  <tbody>\n",
       "    <tr>\n",
       "      <th>0</th>\n",
       "      <td>720.0</td>\n",
       "      <td>724.0</td>\n",
       "    </tr>\n",
       "    <tr>\n",
       "      <th>1</th>\n",
       "      <td>710.0</td>\n",
       "      <td>714.0</td>\n",
       "    </tr>\n",
       "    <tr>\n",
       "      <th>2</th>\n",
       "      <td>690.0</td>\n",
       "      <td>694.0</td>\n",
       "    </tr>\n",
       "    <tr>\n",
       "      <th>3</th>\n",
       "      <td>710.0</td>\n",
       "      <td>714.0</td>\n",
       "    </tr>\n",
       "    <tr>\n",
       "      <th>4</th>\n",
       "      <td>730.0</td>\n",
       "      <td>734.0</td>\n",
       "    </tr>\n",
       "  </tbody>\n",
       "</table>\n",
       "</div>"
      ],
      "text/plain": [
       "       0      1\n",
       "0  720.0  724.0\n",
       "1  710.0  714.0\n",
       "2  690.0  694.0\n",
       "3  710.0  714.0\n",
       "4  730.0  734.0"
      ]
     },
     "execution_count": 17,
     "metadata": {},
     "output_type": "execute_result"
    }
   ],
   "source": [
    "#now k is a new dataframe with two columns and same no of rows\n",
    "k.head()"
   ]
  },
  {
   "cell_type": "code",
   "execution_count": 18,
   "metadata": {},
   "outputs": [],
   "source": [
    "#creating a new column \"fico\" with average from k[0] (ie lower range) and k[1] (ie upper range)\n",
    "df_train['fico']=0.5*(k[0]+k[1])\n",
    "del df_train['FICO.Range']"
   ]
  },
  {
   "cell_type": "markdown",
   "metadata": {},
   "source": [
    "#### Operation 5"
   ]
  },
  {
   "cell_type": "code",
   "execution_count": 19,
   "metadata": {},
   "outputs": [
    {
     "data": {
      "text/plain": [
       "10+ years    575\n",
       "< 1 year     229\n",
       "2 years      217\n",
       "3 years      203\n",
       "5 years      181\n",
       "4 years      162\n",
       "1 year       159\n",
       "6 years      134\n",
       "7 years      109\n",
       "8 years       95\n",
       "9 years       66\n",
       ".              1\n",
       "Name: Employment.Length, dtype: int64"
      ]
     },
     "execution_count": 19,
     "metadata": {},
     "output_type": "execute_result"
    }
   ],
   "source": [
    "#checking unique values for \"Employment.Length\" and their corresponding values\n",
    "df_train['Employment.Length'].value_counts()"
   ]
  },
  {
   "cell_type": "code",
   "execution_count": 20,
   "metadata": {},
   "outputs": [],
   "source": [
    "df_train['Employment.Length']=df_train['Employment.Length'].str.replace('years',\"\")\n",
    "df_train['Employment.Length']=df_train['Employment.Length'].str.replace('year',\"\")"
   ]
  },
  {
   "cell_type": "code",
   "execution_count": 21,
   "metadata": {},
   "outputs": [
    {
     "data": {
      "text/plain": [
       "0      5 \n",
       "1      4 \n",
       "2    < 1 \n",
       "3    10+ \n",
       "4    10+ \n",
       "Name: Employment.Length, dtype: object"
      ]
     },
     "execution_count": 21,
     "metadata": {},
     "output_type": "execute_result"
    }
   ],
   "source": [
    "#verifying the two replace operations we performed\n",
    "df_train['Employment.Length'].head()"
   ]
  },
  {
   "cell_type": "code",
   "execution_count": 22,
   "metadata": {},
   "outputs": [],
   "source": [
    "#\"10+\"[:2] #take index 0 and index 1. "
   ]
  },
  {
   "cell_type": "code",
   "execution_count": 23,
   "metadata": {},
   "outputs": [],
   "source": [
    "#np.where(condition, value_if_True, value_if_False)\n",
    "df_train['Employment.Length']=np.where(df_train['Employment.Length'].str[:2]==\"10\",10,\n",
    "                                       df_train['Employment.Length'])\n",
    "\n",
    "df_train['Employment.Length']=np.where(df_train['Employment.Length'].str[0]==\"<\",0,\n",
    "                                       df_train['Employment.Length'])"
   ]
  },
  {
   "cell_type": "code",
   "execution_count": 24,
   "metadata": {},
   "outputs": [
    {
     "data": {
      "text/plain": [
       "0    5 \n",
       "1    4 \n",
       "2     0\n",
       "3    10\n",
       "4    10\n",
       "Name: Employment.Length, dtype: object"
      ]
     },
     "execution_count": 24,
     "metadata": {},
     "output_type": "execute_result"
    }
   ],
   "source": [
    "df_train['Employment.Length'].head()"
   ]
  },
  {
   "cell_type": "code",
   "execution_count": 25,
   "metadata": {},
   "outputs": [],
   "source": [
    "df_train['Employment.Length']=pd.to_numeric(df_train['Employment.Length'],errors='coerce')"
   ]
  },
  {
   "cell_type": "code",
   "execution_count": 26,
   "metadata": {},
   "outputs": [
    {
     "data": {
      "text/plain": [
       "0     5.0\n",
       "1     4.0\n",
       "2     0.0\n",
       "3    10.0\n",
       "4    10.0\n",
       "Name: Employment.Length, dtype: float64"
      ]
     },
     "execution_count": 26,
     "metadata": {},
     "output_type": "execute_result"
    }
   ],
   "source": [
    "df_train['Employment.Length'].head()"
   ]
  },
  {
   "cell_type": "markdown",
   "metadata": {},
   "source": [
    "#### Operation 6"
   ]
  },
  {
   "cell_type": "code",
   "execution_count": 27,
   "metadata": {},
   "outputs": [
    {
     "data": {
      "text/plain": [
       "Index(['Loan.Length', 'Loan.Purpose', 'State', 'Home.Ownership'], dtype='object')"
      ]
     },
     "execution_count": 27,
     "metadata": {},
     "output_type": "execute_result"
    }
   ],
   "source": [
    "# Notice that to apply string function on pandas data frame columns you need to str attribute\n",
    "cat_cols=df_train.select_dtypes(['object']).columns\n",
    "cat_cols"
   ]
  },
  {
   "cell_type": "code",
   "execution_count": 28,
   "metadata": {},
   "outputs": [
    {
     "name": "stdout",
     "output_type": "stream",
     "text": [
      "**************************************************\n",
      "Loan.Length\n",
      "--------------------------------------------------\n",
      "3\n",
      "36 months    1722\n",
      "60 months     476\n",
      ".               1\n",
      "Name: Loan.Length, dtype: int64\n",
      "**************************************************\n",
      "Loan.Purpose\n",
      "--------------------------------------------------\n",
      "14\n",
      "debt_consolidation    1147\n",
      "credit_card            394\n",
      "other                  174\n",
      "home_improvement       135\n",
      "major_purchase          84\n",
      "small_business          80\n",
      "car                     45\n",
      "wedding                 35\n",
      "medical                 26\n",
      "moving                  25\n",
      "house                   19\n",
      "vacation                18\n",
      "educational             14\n",
      "renewable_energy         3\n",
      "Name: Loan.Purpose, dtype: int64\n",
      "**************************************************\n",
      "State\n",
      "--------------------------------------------------\n",
      "46\n",
      "CA    376\n",
      "NY    231\n",
      "FL    149\n",
      "TX    146\n",
      "PA     88\n",
      "IL     87\n",
      "GA     82\n",
      "NJ     81\n",
      "VA     70\n",
      "MA     64\n",
      "OH     59\n",
      "MD     59\n",
      "NC     59\n",
      "CO     54\n",
      "WA     52\n",
      "CT     44\n",
      "AZ     44\n",
      "MI     38\n",
      "AL     34\n",
      "MN     30\n",
      "NV     29\n",
      "MO     29\n",
      "SC     27\n",
      "OR     25\n",
      "WI     25\n",
      "KS     21\n",
      "OK     20\n",
      "LA     20\n",
      "KY     20\n",
      "NH     14\n",
      "RI     13\n",
      "UT     13\n",
      "NM     12\n",
      "HI     12\n",
      "WV     12\n",
      "AR     11\n",
      "DC      9\n",
      "AK      8\n",
      "MT      7\n",
      "DE      7\n",
      "VT      5\n",
      "WY      4\n",
      "SD      4\n",
      "IN      3\n",
      "MS      1\n",
      ".       1\n",
      "Name: State, dtype: int64\n",
      "**************************************************\n",
      "Home.Ownership\n",
      "--------------------------------------------------\n",
      "5\n",
      "MORTGAGE    1018\n",
      "RENT         999\n",
      "OWN          177\n",
      "OTHER          4\n",
      "NONE           1\n",
      "Name: Home.Ownership, dtype: int64\n",
      "**************************************************\n"
     ]
    }
   ],
   "source": [
    "print(\"*\"*50)\n",
    "for col in cat_cols:\n",
    "    print(col)\n",
    "    print(\"-\"*50)\n",
    "    print(df_train[col].nunique())\n",
    "    print(df_train[col].value_counts())\n",
    "    print(\"*\"*50)"
   ]
  },
  {
   "cell_type": "code",
   "execution_count": 29,
   "metadata": {},
   "outputs": [
    {
     "name": "stdout",
     "output_type": "stream",
     "text": [
      "Loan.Length\n",
      "Loan.Purpose\n",
      "State\n",
      "Home.Ownership\n"
     ]
    }
   ],
   "source": [
    "# you can use following method if you want to ignore categories with too low frequencies ,\n",
    "# in next section for logistic regression we will be using  pandas' get dummies function. \n",
    "# you can work with either of these . \n",
    "# ignoring categories with low frequencies however will result in fewer columns without \n",
    "# affecting model performance too much .\n",
    "to_store = []\n",
    "new_cols = []\n",
    "for col in cat_cols:\n",
    "    freqs=df_train[col].value_counts()\n",
    "    categories = freqs.index[freqs>20][:-1]\n",
    "    to_store.append((col, categories))\n",
    "    for category in categories:\n",
    "        name=col+'.'+category\n",
    "        new_cols.append(name)\n",
    "        df_train[name]=(df_train[col]==category).astype(int)\n",
    "    del df_train[col]\n",
    "    print(col)"
   ]
  },
  {
   "cell_type": "code",
   "execution_count": 34,
   "metadata": {
    "collapsed": true
   },
   "outputs": [
    {
     "data": {
      "text/plain": [
       "['Loan.Length.36 months',\n",
       " 'Loan.Purpose.debt_consolidation',\n",
       " 'Loan.Purpose.credit_card',\n",
       " 'Loan.Purpose.other',\n",
       " 'Loan.Purpose.home_improvement',\n",
       " 'Loan.Purpose.major_purchase',\n",
       " 'Loan.Purpose.small_business',\n",
       " 'Loan.Purpose.car',\n",
       " 'Loan.Purpose.wedding',\n",
       " 'Loan.Purpose.medical',\n",
       " 'State.CA',\n",
       " 'State.NY',\n",
       " 'State.FL',\n",
       " 'State.TX',\n",
       " 'State.PA',\n",
       " 'State.IL',\n",
       " 'State.GA',\n",
       " 'State.NJ',\n",
       " 'State.VA',\n",
       " 'State.MA',\n",
       " 'State.OH',\n",
       " 'State.MD',\n",
       " 'State.NC',\n",
       " 'State.CO',\n",
       " 'State.WA',\n",
       " 'State.CT',\n",
       " 'State.AZ',\n",
       " 'State.MI',\n",
       " 'State.AL',\n",
       " 'State.MN',\n",
       " 'State.NV',\n",
       " 'State.MO',\n",
       " 'State.SC',\n",
       " 'State.OR',\n",
       " 'State.WI',\n",
       " 'Home.Ownership.MORTGAGE',\n",
       " 'Home.Ownership.RENT']"
      ]
     },
     "execution_count": 34,
     "metadata": {},
     "output_type": "execute_result"
    }
   ],
   "source": [
    "new_cols"
   ]
  },
  {
   "cell_type": "code",
   "execution_count": 32,
   "metadata": {},
   "outputs": [
    {
     "data": {
      "text/plain": [
       "array([dtype('float64'), dtype('int64')], dtype=object)"
      ]
     },
     "execution_count": 32,
     "metadata": {},
     "output_type": "execute_result"
    }
   ],
   "source": [
    "df_train.dtypes.unique() #mission successful"
   ]
  },
  {
   "cell_type": "markdown",
   "metadata": {},
   "source": [
    "### Correlation Coefficient"
   ]
  },
  {
   "cell_type": "code",
   "execution_count": 37,
   "metadata": {},
   "outputs": [],
   "source": [
    "numerical = df_train[df_train.columns.drop(new_cols)]"
   ]
  },
  {
   "cell_type": "code",
   "execution_count": 44,
   "metadata": {},
   "outputs": [
    {
     "data": {
      "image/png": "[encoded data removed]",
      "text/plain": [
       "<Figure size 720x576 with 2 Axes>"
      ]
     },
     "metadata": {
      "needs_background": "light"
     },
     "output_type": "display_data"
    }
   ],
   "source": [
    "ax, fig = plt.subplots(figsize=(10,8))\n",
    "sns.heatmap(numerical.corr(), annot=True, cmap='coolwarm')\n",
    "plt.show()"
   ]
  },
  {
   "cell_type": "markdown",
   "metadata": {},
   "source": [
    "### Outliers"
   ]
  },
  {
   "cell_type": "code",
   "execution_count": 51,
   "metadata": {},
   "outputs": [
    {
     "data": {
      "image/png": "[encoded data removed]",
      "text/plain": [
       "<Figure size 2160x1800 with 9 Axes>"
      ]
     },
     "metadata": {
      "needs_background": "light"
     },
     "output_type": "display_data"
    }
   ],
   "source": [
    "from scipy import stats\n",
    "\n",
    "fig, axs = plt.subplots(ncols=3, nrows=3, figsize=(30, 25))\n",
    "index = 0\n",
    "axs = axs.flatten()\n",
    "for k,v in numerical.items():\n",
    "    sns.boxplot(y=k, data=numerical, ax=axs[index])\n",
    "    index += 1\n",
    "plt.tight_layout(pad=0.4, w_pad=0.5, h_pad=5.0)"
   ]
  },
  {
   "cell_type": "code",
   "execution_count": 53,
   "metadata": {},
   "outputs": [
    {
     "name": "stdout",
     "output_type": "stream",
     "text": [
      "Column Amount.Requested outliers = 2.32%\n",
      "Column Interest.Rate outliers = 0.23%\n",
      "Column Debt.To.Income.Ratio outliers = 0.00%\n",
      "Column Monthly.Income outliers = 4.95%\n",
      "Column Open.CREDIT.Lines outliers = 1.55%\n",
      "Column Revolving.CREDIT.Balance outliers = 5.64%\n",
      "Column Inquiries.in.the.Last.6.Months outliers = 10.09%\n",
      "Column Employment.Length outliers = 0.00%\n",
      "Column fico outliers = 2.23%\n"
     ]
    }
   ],
   "source": [
    "for k, v in numerical.items(): #k=column_name, v=values\n",
    "    q1 = v.quantile(0.25)\n",
    "    q3 = v.quantile(0.75)\n",
    "    irq = q3 - q1\n",
    "    v_col = v[(v <= q1 - 1.5 * irq) | (v >= q3 + 1.5 * irq)]\n",
    "    perc = np.shape(v_col)[0] * 100.0 / np.shape(numerical)[0]\n",
    "    print(\"Column %s outliers = %.2f%%\" % (k, perc))"
   ]
  },
  {
   "cell_type": "markdown",
   "metadata": {},
   "source": [
    "### Missing values"
   ]
  },
  {
   "cell_type": "code",
   "execution_count": 54,
   "metadata": {},
   "outputs": [
    {
     "data": {
      "text/plain": [
       "Amount.Requested                    5\n",
       "Interest.Rate                       0\n",
       "Debt.To.Income.Ratio                1\n",
       "Monthly.Income                      3\n",
       "Open.CREDIT.Lines                   7\n",
       "Revolving.CREDIT.Balance            5\n",
       "Inquiries.in.the.Last.6.Months      3\n",
       "Employment.Length                  70\n",
       "fico                                0\n",
       "Loan.Length.36 months               0\n",
       "Loan.Purpose.debt_consolidation     0\n",
       "Loan.Purpose.credit_card            0\n",
       "Loan.Purpose.other                  0\n",
       "Loan.Purpose.home_improvement       0\n",
       "Loan.Purpose.major_purchase         0\n",
       "Loan.Purpose.small_business         0\n",
       "Loan.Purpose.car                    0\n",
       "Loan.Purpose.wedding                0\n",
       "Loan.Purpose.medical                0\n",
       "State.CA                            0\n",
       "State.NY                            0\n",
       "State.FL                            0\n",
       "State.TX                            0\n",
       "State.PA                            0\n",
       "State.IL                            0\n",
       "State.GA                            0\n",
       "State.NJ                            0\n",
       "State.VA                            0\n",
       "State.MA                            0\n",
       "State.OH                            0\n",
       "State.MD                            0\n",
       "State.NC                            0\n",
       "State.CO                            0\n",
       "State.WA                            0\n",
       "State.CT                            0\n",
       "State.AZ                            0\n",
       "State.MI                            0\n",
       "State.AL                            0\n",
       "State.MN                            0\n",
       "State.NV                            0\n",
       "State.MO                            0\n",
       "State.SC                            0\n",
       "State.OR                            0\n",
       "State.WI                            0\n",
       "Home.Ownership.MORTGAGE             0\n",
       "Home.Ownership.RENT                 0\n",
       "dtype: int64"
      ]
     },
     "execution_count": 54,
     "metadata": {},
     "output_type": "execute_result"
    }
   ],
   "source": [
    "df_train.isnull().sum()"
   ]
  },
  {
   "cell_type": "code",
   "execution_count": 55,
   "metadata": {},
   "outputs": [],
   "source": [
    "from sklearn.impute import SimpleImputer\n",
    "imputer = SimpleImputer(missing_values=np.nan, strategy='mean')"
   ]
  },
  {
   "cell_type": "code",
   "execution_count": 56,
   "metadata": {},
   "outputs": [],
   "source": [
    "df_train = pd.DataFrame(imputer.fit_transform(df_train), columns=df_train.columns)"
   ]
  },
  {
   "cell_type": "code",
   "execution_count": 57,
   "metadata": {},
   "outputs": [
    {
     "data": {
      "text/plain": [
       "Amount.Requested                   0\n",
       "Interest.Rate                      0\n",
       "Debt.To.Income.Ratio               0\n",
       "Monthly.Income                     0\n",
       "Open.CREDIT.Lines                  0\n",
       "Revolving.CREDIT.Balance           0\n",
       "Inquiries.in.the.Last.6.Months     0\n",
       "Employment.Length                  0\n",
       "fico                               0\n",
       "Loan.Length.36 months              0\n",
       "Loan.Purpose.debt_consolidation    0\n",
       "Loan.Purpose.credit_card           0\n",
       "Loan.Purpose.other                 0\n",
       "Loan.Purpose.home_improvement      0\n",
       "Loan.Purpose.major_purchase        0\n",
       "Loan.Purpose.small_business        0\n",
       "Loan.Purpose.car                   0\n",
       "Loan.Purpose.wedding               0\n",
       "Loan.Purpose.medical               0\n",
       "State.CA                           0\n",
       "State.NY                           0\n",
       "State.FL                           0\n",
       "State.TX                           0\n",
       "State.PA                           0\n",
       "State.IL                           0\n",
       "State.GA                           0\n",
       "State.NJ                           0\n",
       "State.VA                           0\n",
       "State.MA                           0\n",
       "State.OH                           0\n",
       "State.MD                           0\n",
       "State.NC                           0\n",
       "State.CO                           0\n",
       "State.WA                           0\n",
       "State.CT                           0\n",
       "State.AZ                           0\n",
       "State.MI                           0\n",
       "State.AL                           0\n",
       "State.MN                           0\n",
       "State.NV                           0\n",
       "State.MO                           0\n",
       "State.SC                           0\n",
       "State.OR                           0\n",
       "State.WI                           0\n",
       "Home.Ownership.MORTGAGE            0\n",
       "Home.Ownership.RENT                0\n",
       "dtype: int64"
      ]
     },
     "execution_count": 57,
     "metadata": {},
     "output_type": "execute_result"
    }
   ],
   "source": [
    "df_train.isnull().sum()"
   ]
  },
  {
   "cell_type": "markdown",
   "metadata": {},
   "source": [
    "## Step 3: Defining Training and Test Set"
   ]
  },
  {
   "cell_type": "code",
   "execution_count": 58,
   "metadata": {},
   "outputs": [],
   "source": [
    "from sklearn.model_selection import train_test_split"
   ]
  },
  {
   "cell_type": "code",
   "execution_count": 59,
   "metadata": {},
   "outputs": [
    {
     "data": {
      "text/plain": [
       "((2200, 45), (2200,))"
      ]
     },
     "execution_count": 59,
     "metadata": {},
     "output_type": "execute_result"
    }
   ],
   "source": [
    "X_train, y_train = df_train.loc[:,df_train.columns!=\"Interest.Rate\"].values, df_train[\"Interest.Rate\"].values\n",
    "X_train.shape, y_train.shape"
   ]
  },
  {
   "cell_type": "markdown",
   "metadata": {},
   "source": [
    "## Step 4: Data Scaling"
   ]
  },
  {
   "cell_type": "code",
   "execution_count": 60,
   "metadata": {},
   "outputs": [],
   "source": [
    "from sklearn.preprocessing import StandardScaler\n",
    "std = StandardScaler().fit(X_train)\n",
    "X_train = std.transform(X_train)"
   ]
  },
  {
   "cell_type": "markdown",
   "metadata": {},
   "source": [
    "## Step 5: Test set pipeline"
   ]
  },
  {
   "cell_type": "code",
   "execution_count": 61,
   "metadata": {},
   "outputs": [],
   "source": [
    "def preprocessing(dataframe, to_store):\n",
    "    \n",
    "    #Operation1\n",
    "    dataframe = dataframe.drop(['ID','Amount.Funded.By.Investors'],axis=1)\n",
    "    \n",
    "    #Operation2\n",
    "    for col in ['Amount.Requested', 'Open.CREDIT.Lines','Revolving.CREDIT.Balance']:\n",
    "        dataframe[col]=pd.to_numeric(dataframe[col],errors='coerce')\n",
    "    \n",
    "    #Operation3\n",
    "    for col in ['Debt.To.Income.Ratio']:\n",
    "        dataframe[col] = dataframe[col].str.replace(\"%\",\"\") \n",
    "    \n",
    "    for col in ['Debt.To.Income.Ratio']:\n",
    "        dataframe[col]=pd.to_numeric(dataframe[col],errors='coerce') \n",
    "    \n",
    "    #Operation4\n",
    "    k=dataframe['FICO.Range'].str.split(\"-\",expand=True).astype(float)\n",
    "    dataframe['fico']=0.5*(k[0]+k[1])\n",
    "    del dataframe['FICO.Range']\n",
    "    \n",
    "    #Operation5\n",
    "    dataframe['Employment.Length']=dataframe['Employment.Length'].str.replace('years',\"\")\n",
    "    dataframe['Employment.Length']=dataframe['Employment.Length'].str.replace('year',\"\")\n",
    "    \n",
    "    dataframe['Employment.Length']=np.where(dataframe['Employment.Length'].str[:2]==\"10\",10,\n",
    "                                       dataframe['Employment.Length'])\n",
    "\n",
    "    dataframe['Employment.Length']=np.where(dataframe['Employment.Length'].str[0]==\"<\",0,\n",
    "                                       dataframe['Employment.Length'])\n",
    "    \n",
    "    dataframe['Employment.Length']=pd.to_numeric(dataframe['Employment.Length'],errors='coerce')\n",
    "    \n",
    "    #Operation6\n",
    "    for column, categories in to_store:\n",
    "        for category in categories:\n",
    "            name=column+'.'+category\n",
    "            dataframe[name]=(dataframe[column]==category).astype(int)\n",
    "        del dataframe[column]\n",
    "    \n",
    "    #Missing values\n",
    "    dataframe = pd.DataFrame(imputer.fit_transform(dataframe), columns=dataframe.columns)\n",
    "    \n",
    "    X_test = dataframe.values\n",
    "    X_test = std.transform(X_test)\n",
    "    \n",
    "    return X_test"
   ]
  },
  {
   "cell_type": "code",
   "execution_count": 62,
   "metadata": {},
   "outputs": [
    {
     "data": {
      "text/plain": [
       "(300, 45)"
      ]
     },
     "execution_count": 62,
     "metadata": {},
     "output_type": "execute_result"
    }
   ],
   "source": [
    "X_test = preprocessing(df_test, to_store)\n",
    "X_test.shape"
   ]
  },
  {
   "cell_type": "markdown",
   "metadata": {},
   "source": [
    "## Step 6: Modelling"
   ]
  },
  {
   "cell_type": "markdown",
   "metadata": {},
   "source": [
    "### Linear Regression"
   ]
  },
  {
   "cell_type": "code",
   "execution_count": 63,
   "metadata": {},
   "outputs": [
    {
     "data": {
      "text/plain": [
       "LinearRegression(copy_X=True, fit_intercept=True, n_jobs=None, normalize=False)"
      ]
     },
     "execution_count": 63,
     "metadata": {},
     "output_type": "execute_result"
    }
   ],
   "source": [
    "from sklearn.linear_model import LinearRegression\n",
    "\n",
    "lm=LinearRegression()\n",
    "\n",
    "lm.fit(X_train, y_train)"
   ]
  },
  {
   "cell_type": "code",
   "execution_count": 64,
   "metadata": {},
   "outputs": [],
   "source": [
    "test_pred = lm.predict(X_test)"
   ]
  },
  {
   "cell_type": "markdown",
   "metadata": {},
   "source": [
    "We can write these to a csv file for submission like this :"
   ]
  },
  {
   "cell_type": "code",
   "execution_count": 65,
   "metadata": {},
   "outputs": [],
   "source": [
    "pd.DataFrame(test_pred).to_csv(\"mysubmission.csv\",index=False)"
   ]
  },
  {
   "cell_type": "markdown",
   "metadata": {},
   "source": [
    "### Ridge  Regression"
   ]
  },
  {
   "cell_type": "code",
   "execution_count": 66,
   "metadata": {},
   "outputs": [],
   "source": [
    "from sklearn.linear_model import Ridge\n",
    "from sklearn.model_selection import GridSearchCV"
   ]
  },
  {
   "cell_type": "code",
   "execution_count": 67,
   "metadata": {},
   "outputs": [],
   "source": [
    "model=Ridge()"
   ]
  },
  {
   "cell_type": "code",
   "execution_count": 68,
   "metadata": {},
   "outputs": [],
   "source": [
    "lambdas=np.linspace(1,100,100) #defiing range for values for lambda\n",
    "params={'alpha':lambdas}"
   ]
  },
  {
   "cell_type": "code",
   "execution_count": 69,
   "metadata": {},
   "outputs": [],
   "source": [
    "grid_search = GridSearchCV(model, param_grid=params, cv=10, scoring='neg_mean_absolute_error')"
   ]
  },
  {
   "cell_type": "code",
   "execution_count": 70,
   "metadata": {},
   "outputs": [
    {
     "data": {
      "text/plain": [
       "GridSearchCV(cv=10, error_score='raise-deprecating',\n",
       "             estimator=Ridge(alpha=1.0, copy_X=True, fit_intercept=True,\n",
       "                             max_iter=None, normalize=False, random_state=None,\n",
       "                             solver='auto', tol=0.001),\n",
       "             iid='warn', n_jobs=None,\n",
       "             param_grid={'alpha': array([  1.,   2.,   3.,   4.,   5.,   6.,   7.,   8.,   9.,  10.,  11.,\n",
       "        12.,  13.,  14.,  15.,  16.,  17.,  18.,  19.,  20.,  21.,  22.,\n",
       "        23.,  24.,  25.,  26.,  27.,  28.,  29.,  30.,  31.,  32.,...\n",
       "        34.,  35.,  36.,  37.,  38.,  39.,  40.,  41.,  42.,  43.,  44.,\n",
       "        45.,  46.,  47.,  48.,  49.,  50.,  51.,  52.,  53.,  54.,  55.,\n",
       "        56.,  57.,  58.,  59.,  60.,  61.,  62.,  63.,  64.,  65.,  66.,\n",
       "        67.,  68.,  69.,  70.,  71.,  72.,  73.,  74.,  75.,  76.,  77.,\n",
       "        78.,  79.,  80.,  81.,  82.,  83.,  84.,  85.,  86.,  87.,  88.,\n",
       "        89.,  90.,  91.,  92.,  93.,  94.,  95.,  96.,  97.,  98.,  99.,\n",
       "       100.])},\n",
       "             pre_dispatch='2*n_jobs', refit=True, return_train_score=False,\n",
       "             scoring='neg_mean_absolute_error', verbose=0)"
      ]
     },
     "execution_count": 70,
     "metadata": {},
     "output_type": "execute_result"
    }
   ],
   "source": [
    "grid_search.fit(X_train, y_train)"
   ]
  },
  {
   "cell_type": "code",
   "execution_count": 71,
   "metadata": {},
   "outputs": [
    {
     "data": {
      "text/plain": [
       "Ridge(alpha=5.0, copy_X=True, fit_intercept=True, max_iter=None,\n",
       "      normalize=False, random_state=None, solver='auto', tol=0.001)"
      ]
     },
     "execution_count": 71,
     "metadata": {},
     "output_type": "execute_result"
    }
   ],
   "source": [
    "grid_search.best_estimator_"
   ]
  },
  {
   "cell_type": "code",
   "execution_count": 72,
   "metadata": {},
   "outputs": [
    {
     "data": {
      "text/plain": [
       "{'mean_fit_time': array([0.00212629, 0.00160275, 0.0015451 , 0.00135899, 0.00122128,\n",
       "        0.00126696, 0.00122786, 0.00117986, 0.00117753, 0.00114768,\n",
       "        0.00121078, 0.00147374, 0.00161231, 0.00149913, 0.00117905,\n",
       "        0.00118449, 0.0011107 , 0.00114703, 0.0012249 , 0.00112267,\n",
       "        0.00159271, 0.00141377, 0.00135584, 0.00121434, 0.00112114,\n",
       "        0.00114012, 0.00118916, 0.00116863, 0.00120885, 0.00117764,\n",
       "        0.00123281, 0.00115504, 0.00113165, 0.00110481, 0.00114048,\n",
       "        0.00116193, 0.0011188 , 0.0015209 , 0.00140307, 0.0012198 ,\n",
       "        0.00113032, 0.0011435 , 0.00112035, 0.00112686, 0.0011687 ,\n",
       "        0.00121014, 0.00122576, 0.00137777, 0.0011369 , 0.00120406,\n",
       "        0.0011106 , 0.00112026, 0.00117137, 0.00112491, 0.00149541,\n",
       "        0.00161061, 0.0017468 , 0.00131714, 0.00115891, 0.00115793,\n",
       "        0.00121169, 0.00114374, 0.00118697, 0.00119276, 0.00118601,\n",
       "        0.00112202, 0.00114708, 0.00142863, 0.00170927, 0.00131233,\n",
       "        0.00132267, 0.00131209, 0.0011632 , 0.0011579 , 0.00110512,\n",
       "        0.00114849, 0.00117488, 0.00117078, 0.00117285, 0.00125432,\n",
       "        0.00123906, 0.00114677, 0.00124481, 0.00113847, 0.00115273,\n",
       "        0.00119467, 0.00115724, 0.00119562, 0.0014245 , 0.00120022,\n",
       "        0.00111873, 0.00130782, 0.00151136, 0.00170314, 0.00123603,\n",
       "        0.00129564, 0.00134418, 0.00125821, 0.0011605 , 0.00116622]),\n",
       " 'std_fit_time': array([4.87467295e-04, 1.39320777e-04, 3.91368716e-04, 2.61978366e-04,\n",
       "        7.55136192e-05, 1.96357495e-04, 1.15161702e-04, 8.63158271e-05,\n",
       "        1.27702272e-04, 6.98873994e-05, 2.55355474e-04, 2.24217509e-04,\n",
       "        1.85560684e-04, 4.66453783e-04, 1.05090845e-04, 9.27162280e-05,\n",
       "        4.23764729e-05, 5.04130997e-05, 2.04965700e-04, 3.97228249e-05,\n",
       "        3.16236377e-04, 3.25834589e-04, 2.61471272e-04, 1.22631219e-04,\n",
       "        3.98017950e-05, 3.02060438e-05, 1.24901759e-04, 9.70142278e-05,\n",
       "        1.05324847e-04, 8.47748345e-05, 1.36230498e-04, 8.86885837e-05,\n",
       "        7.88999991e-05, 2.94742552e-05, 5.94809441e-05, 6.34630893e-05,\n",
       "        3.30792697e-05, 3.08332111e-04, 2.06312772e-04, 1.16009189e-04,\n",
       "        5.02795842e-05, 7.07122978e-05, 4.46108430e-05, 5.24443057e-05,\n",
       "        1.08482259e-04, 1.06340141e-04, 1.06883387e-04, 1.23627967e-04,\n",
       "        5.94559006e-05, 2.15650278e-04, 4.34621833e-05, 4.85335028e-05,\n",
       "        6.68206467e-05, 5.46214623e-05, 1.84028066e-04, 3.89091133e-04,\n",
       "        5.24032107e-04, 1.81978617e-04, 4.80513468e-05, 4.91012688e-05,\n",
       "        1.33011962e-04, 8.23986337e-05, 7.18534623e-05, 9.05585073e-05,\n",
       "        1.10160852e-04, 8.78758262e-05, 5.77489763e-05, 1.14398414e-04,\n",
       "        3.95067022e-04, 2.25159634e-04, 2.55103981e-04, 1.65688838e-04,\n",
       "        9.37378536e-05, 7.92608357e-05, 2.96207236e-05, 5.70188836e-05,\n",
       "        8.87273901e-05, 8.59860630e-05, 1.07140230e-04, 1.58294568e-04,\n",
       "        1.40519793e-04, 4.09933621e-05, 2.50432076e-04, 6.79043948e-05,\n",
       "        7.31894129e-05, 8.74527538e-05, 4.71086154e-05, 1.34960071e-04,\n",
       "        2.14209449e-04, 1.13163989e-04, 3.63031023e-05, 2.85670535e-04,\n",
       "        1.51258784e-04, 2.93913413e-04, 1.73770349e-04, 1.89228639e-04,\n",
       "        1.65347658e-04, 1.83097771e-04, 9.00729015e-05, 8.39564037e-05]),\n",
       " 'mean_score_time': array([0.00044801, 0.0003798 , 0.00030773, 0.00032556, 0.0002769 ,\n",
       "        0.0003015 , 0.00028226, 0.00026441, 0.00025921, 0.00025873,\n",
       "        0.00027592, 0.00032234, 0.00033946, 0.00030203, 0.00026863,\n",
       "        0.00027192, 0.00025241, 0.00027249, 0.00029566, 0.00027184,\n",
       "        0.00033674, 0.00033717, 0.00030029, 0.00028124, 0.00028238,\n",
       "        0.00027792, 0.00027311, 0.00027587, 0.00026474, 0.00028534,\n",
       "        0.00027771, 0.00026824, 0.00027618, 0.00025663, 0.0002677 ,\n",
       "        0.00028663, 0.00026007, 0.00032337, 0.00030942, 0.00028923,\n",
       "        0.00025678, 0.00026791, 0.00026386, 0.00026088, 0.00026052,\n",
       "        0.00029047, 0.00029757, 0.00030217, 0.00025251, 0.00029213,\n",
       "        0.00026784, 0.00028291, 0.00027311, 0.00027072, 0.00031569,\n",
       "        0.00035493, 0.00034478, 0.00028625, 0.00026817, 0.00026953,\n",
       "        0.00026588, 0.00027037, 0.00026302, 0.00027564, 0.00027323,\n",
       "        0.00025902, 0.00027745, 0.00031602, 0.00037446, 0.00029383,\n",
       "        0.00028503, 0.00028653, 0.00028458, 0.00026011, 0.00027695,\n",
       "        0.00027006, 0.00027664, 0.00026622, 0.00028384, 0.00028663,\n",
       "        0.00027943, 0.0002775 , 0.00027637, 0.0002672 , 0.00026743,\n",
       "        0.00026293, 0.0002697 , 0.00027015, 0.00030854, 0.00028546,\n",
       "        0.00024991, 0.00027761, 0.00033426, 0.00034451, 0.00027034,\n",
       "        0.00027447, 0.00031033, 0.00028343, 0.00026903, 0.00026119]),\n",
       " 'std_score_time': array([9.66608699e-05, 5.42966581e-05, 7.72020602e-05, 1.41125846e-04,\n",
       "        1.72448341e-05, 4.60422266e-05, 4.15035252e-05, 2.58078614e-05,\n",
       "        1.90671672e-05, 1.81926968e-05, 4.68976133e-05, 6.91115381e-05,\n",
       "        4.08655009e-05, 5.70553942e-05, 3.18622236e-05, 3.45472141e-05,\n",
       "        9.73790325e-06, 3.85263252e-05, 4.83835189e-05, 2.25276668e-05,\n",
       "        3.42042510e-05, 7.09266862e-05, 5.60643963e-05, 2.62875702e-05,\n",
       "        3.90035890e-05, 3.39228754e-05, 2.61790223e-05, 4.95346888e-05,\n",
       "        1.79809975e-05, 4.13483809e-05, 3.09367377e-05, 3.09977988e-05,\n",
       "        6.80016600e-05, 2.04212716e-05, 2.97006398e-05, 5.05020753e-05,\n",
       "        2.87716603e-05, 4.31989267e-05, 5.43917175e-05, 3.85342918e-05,\n",
       "        1.45071387e-05, 3.51431007e-05, 2.81006513e-05, 1.71511638e-05,\n",
       "        1.88414195e-05, 3.46998646e-05, 4.54167618e-05, 2.81849082e-05,\n",
       "        7.32643651e-06, 3.80559745e-05, 2.74980872e-05, 4.92424356e-05,\n",
       "        2.62180771e-05, 3.28731153e-05, 5.35083163e-05, 7.97411637e-05,\n",
       "        8.86649462e-05, 4.48703766e-05, 2.96583130e-05, 1.88297101e-05,\n",
       "        2.23978489e-05, 3.08931972e-05, 1.67534820e-05, 3.31378583e-05,\n",
       "        2.38199133e-05, 2.15103774e-05, 2.84348617e-05, 5.07591139e-05,\n",
       "        8.50429547e-05, 3.38944023e-05, 3.37911132e-05, 3.77612882e-05,\n",
       "        4.58590189e-05, 2.23195957e-05, 3.65005062e-05, 2.88417607e-05,\n",
       "        2.53978014e-05, 2.27682128e-05, 6.21362227e-05, 5.70469251e-05,\n",
       "        4.54230882e-05, 2.62556018e-05, 3.87454472e-05, 3.02084996e-05,\n",
       "        2.59876361e-05, 1.52382116e-05, 2.54741745e-05, 3.23765847e-05,\n",
       "        3.26780387e-05, 3.80281819e-05, 4.55223426e-06, 3.21734720e-05,\n",
       "        3.73033278e-05, 6.77863057e-05, 2.40792024e-05, 3.50012441e-05,\n",
       "        4.68036014e-05, 3.53699085e-05, 3.01169383e-05, 1.62647086e-05]),\n",
       " 'param_alpha': masked_array(data=[1.0, 2.0, 3.0, 4.0, 5.0, 6.0, 7.0, 8.0, 9.0, 10.0,\n",
       "                    11.0, 12.0, 13.0, 14.0, 15.0, 16.0, 17.0, 18.0, 19.0,\n",
       "                    20.0, 21.0, 22.0, 23.0, 24.0, 25.0, 26.0, 27.0, 28.0,\n",
       "                    29.0, 30.0, 31.0, 32.0, 33.0, 34.0, 35.0, 36.0, 37.0,\n",
       "                    38.0, 39.0, 40.0, 41.0, 42.0, 43.0, 44.0, 45.0, 46.0,\n",
       "                    47.0, 48.0, 49.0, 50.0, 51.0, 52.0, 53.0, 54.0, 55.0,\n",
       "                    56.0, 57.0, 58.0, 59.0, 60.0, 61.0, 62.0, 63.0, 64.0,\n",
       "                    65.0, 66.0, 67.0, 68.0, 69.0, 70.0, 71.0, 72.0, 73.0,\n",
       "                    74.0, 75.0, 76.0, 77.0, 78.0, 79.0, 80.0, 81.0, 82.0,\n",
       "                    83.0, 84.0, 85.0, 86.0, 87.0, 88.0, 89.0, 90.0, 91.0,\n",
       "                    92.0, 93.0, 94.0, 95.0, 96.0, 97.0, 98.0, 99.0, 100.0],\n",
       "              mask=[False, False, False, False, False, False, False, False,\n",
       "                    False, False, False, False, False, False, False, False,\n",
       "                    False, False, False, False, False, False, False, False,\n",
       "                    False, False, False, False, False, False, False, False,\n",
       "                    False, False, False, False, False, False, False, False,\n",
       "                    False, False, False, False, False, False, False, False,\n",
       "                    False, False, False, False, False, False, False, False,\n",
       "                    False, False, False, False, False, False, False, False,\n",
       "                    False, False, False, False, False, False, False, False,\n",
       "                    False, False, False, False, False, False, False, False,\n",
       "                    False, False, False, False, False, False, False, False,\n",
       "                    False, False, False, False, False, False, False, False,\n",
       "                    False, False, False, False],\n",
       "        fill_value='?',\n",
       "             dtype=object),\n",
       " 'params': [{'alpha': 1.0},\n",
       "  {'alpha': 2.0},\n",
       "  {'alpha': 3.0},\n",
       "  {'alpha': 4.0},\n",
       "  {'alpha': 5.0},\n",
       "  {'alpha': 6.0},\n",
       "  {'alpha': 7.0},\n",
       "  {'alpha': 8.0},\n",
       "  {'alpha': 9.0},\n",
       "  {'alpha': 10.0},\n",
       "  {'alpha': 11.0},\n",
       "  {'alpha': 12.0},\n",
       "  {'alpha': 13.0},\n",
       "  {'alpha': 14.0},\n",
       "  {'alpha': 15.0},\n",
       "  {'alpha': 16.0},\n",
       "  {'alpha': 17.0},\n",
       "  {'alpha': 18.0},\n",
       "  {'alpha': 19.0},\n",
       "  {'alpha': 20.0},\n",
       "  {'alpha': 21.0},\n",
       "  {'alpha': 22.0},\n",
       "  {'alpha': 23.0},\n",
       "  {'alpha': 24.0},\n",
       "  {'alpha': 25.0},\n",
       "  {'alpha': 26.0},\n",
       "  {'alpha': 27.0},\n",
       "  {'alpha': 28.0},\n",
       "  {'alpha': 29.0},\n",
       "  {'alpha': 30.0},\n",
       "  {'alpha': 31.0},\n",
       "  {'alpha': 32.0},\n",
       "  {'alpha': 33.0},\n",
       "  {'alpha': 34.0},\n",
       "  {'alpha': 35.0},\n",
       "  {'alpha': 36.0},\n",
       "  {'alpha': 37.0},\n",
       "  {'alpha': 38.0},\n",
       "  {'alpha': 39.0},\n",
       "  {'alpha': 40.0},\n",
       "  {'alpha': 41.0},\n",
       "  {'alpha': 42.0},\n",
       "  {'alpha': 43.0},\n",
       "  {'alpha': 44.0},\n",
       "  {'alpha': 45.0},\n",
       "  {'alpha': 46.0},\n",
       "  {'alpha': 47.0},\n",
       "  {'alpha': 48.0},\n",
       "  {'alpha': 49.0},\n",
       "  {'alpha': 50.0},\n",
       "  {'alpha': 51.0},\n",
       "  {'alpha': 52.0},\n",
       "  {'alpha': 53.0},\n",
       "  {'alpha': 54.0},\n",
       "  {'alpha': 55.0},\n",
       "  {'alpha': 56.0},\n",
       "  {'alpha': 57.0},\n",
       "  {'alpha': 58.0},\n",
       "  {'alpha': 59.0},\n",
       "  {'alpha': 60.0},\n",
       "  {'alpha': 61.0},\n",
       "  {'alpha': 62.0},\n",
       "  {'alpha': 63.0},\n",
       "  {'alpha': 64.0},\n",
       "  {'alpha': 65.0},\n",
       "  {'alpha': 66.0},\n",
       "  {'alpha': 67.0},\n",
       "  {'alpha': 68.0},\n",
       "  {'alpha': 69.0},\n",
       "  {'alpha': 70.0},\n",
       "  {'alpha': 71.0},\n",
       "  {'alpha': 72.0},\n",
       "  {'alpha': 73.0},\n",
       "  {'alpha': 74.0},\n",
       "  {'alpha': 75.0},\n",
       "  {'alpha': 76.0},\n",
       "  {'alpha': 77.0},\n",
       "  {'alpha': 78.0},\n",
       "  {'alpha': 79.0},\n",
       "  {'alpha': 80.0},\n",
       "  {'alpha': 81.0},\n",
       "  {'alpha': 82.0},\n",
       "  {'alpha': 83.0},\n",
       "  {'alpha': 84.0},\n",
       "  {'alpha': 85.0},\n",
       "  {'alpha': 86.0},\n",
       "  {'alpha': 87.0},\n",
       "  {'alpha': 88.0},\n",
       "  {'alpha': 89.0},\n",
       "  {'alpha': 90.0},\n",
       "  {'alpha': 91.0},\n",
       "  {'alpha': 92.0},\n",
       "  {'alpha': 93.0},\n",
       "  {'alpha': 94.0},\n",
       "  {'alpha': 95.0},\n",
       "  {'alpha': 96.0},\n",
       "  {'alpha': 97.0},\n",
       "  {'alpha': 98.0},\n",
       "  {'alpha': 99.0},\n",
       "  {'alpha': 100.0}],\n",
       " 'split0_test_score': array([-1.72486261, -1.72504631, -1.72522881, -1.72541014, -1.72559034,\n",
       "        -1.72576943, -1.72594746, -1.72612443, -1.72630039, -1.72647536,\n",
       "        -1.72664936, -1.72682243, -1.72699457, -1.72716583, -1.72733621,\n",
       "        -1.72750574, -1.72767445, -1.72784235, -1.72802218, -1.72821523,\n",
       "        -1.72840745, -1.72859884, -1.72878944, -1.72897925, -1.7291683 ,\n",
       "        -1.7293566 , -1.72954416, -1.72973101, -1.72991716, -1.73010261,\n",
       "        -1.7302874 , -1.73047152, -1.73065499, -1.73086851, -1.73108582,\n",
       "        -1.73130245, -1.73151843, -1.73173376, -1.73194846, -1.73216254,\n",
       "        -1.732376  , -1.73258886, -1.73280114, -1.73301283, -1.73322394,\n",
       "        -1.7334345 , -1.73364451, -1.73385397, -1.73406289, -1.73427129,\n",
       "        -1.73447917, -1.73468963, -1.73491027, -1.73513039, -1.73535001,\n",
       "        -1.73556913, -1.73578776, -1.73600591, -1.73622721, -1.73645087,\n",
       "        -1.73667404, -1.73689673, -1.73712063, -1.73734881, -1.7375765 ,\n",
       "        -1.73780372, -1.73803046, -1.73825674, -1.73848256, -1.73870792,\n",
       "        -1.73893283, -1.73915729, -1.73938131, -1.7396049 , -1.73982806,\n",
       "        -1.74006373, -1.74031169, -1.74055919, -1.74080625, -1.74105285,\n",
       "        -1.74129901, -1.74154491, -1.74179121, -1.74204473, -1.74230232,\n",
       "        -1.74255948, -1.74281622, -1.74307254, -1.74332845, -1.74358395,\n",
       "        -1.74383905, -1.74409374, -1.74434803, -1.74460193, -1.74485543,\n",
       "        -1.74510855, -1.74536128, -1.74561362, -1.74586559, -1.74611718]),\n",
       " 'split1_test_score': array([-1.75751312, -1.75746117, -1.75741296, -1.7573684 , -1.75732736,\n",
       "        -1.75728975, -1.75725546, -1.75722439, -1.75719646, -1.75717157,\n",
       "        -1.75714963, -1.75713056, -1.75711428, -1.75710072, -1.75709287,\n",
       "        -1.75710584, -1.75712128, -1.75713914, -1.75715933, -1.75718181,\n",
       "        -1.7572065 , -1.75723334, -1.75726228, -1.75729325, -1.75732622,\n",
       "        -1.75736111, -1.75739788, -1.75743649, -1.75747687, -1.75751899,\n",
       "        -1.7575628 , -1.75760826, -1.75765532, -1.75770394, -1.75775408,\n",
       "        -1.75780571, -1.75785878, -1.75791326, -1.75796912, -1.75802631,\n",
       "        -1.75808481, -1.75814458, -1.7582056 , -1.75826782, -1.75833122,\n",
       "        -1.75839578, -1.75846146, -1.75852823, -1.75859608, -1.75866496,\n",
       "        -1.75873487, -1.75880576, -1.75887763, -1.75895044, -1.75902418,\n",
       "        -1.75909881, -1.75917433, -1.7592507 , -1.75932791, -1.75940594,\n",
       "        -1.75948477, -1.75956438, -1.75964474, -1.75972586, -1.75980769,\n",
       "        -1.75989024, -1.75997348, -1.76005739, -1.76014196, -1.76022718,\n",
       "        -1.76031302, -1.76039948, -1.76048654, -1.76057418, -1.7606624 ,\n",
       "        -1.76075118, -1.7608405 , -1.76093035, -1.76102072, -1.7611116 ,\n",
       "        -1.76120298, -1.76129484, -1.76138718, -1.76147997, -1.76157322,\n",
       "        -1.76166691, -1.76176103, -1.76188335, -1.76200969, -1.76213615,\n",
       "        -1.76226274, -1.76238944, -1.76252331, -1.76267303, -1.76282282,\n",
       "        -1.7629727 , -1.76312264, -1.76327266, -1.76342274, -1.76357288]),\n",
       " 'split2_test_score': array([-1.7634752 , -1.76322327, -1.76297268, -1.76272339, -1.76247539,\n",
       "        -1.76222866, -1.76198315, -1.76173887, -1.76149577, -1.76125385,\n",
       "        -1.76101308, -1.76077344, -1.76053645, -1.7603143 , -1.7600933 ,\n",
       "        -1.75987346, -1.75965473, -1.75943712, -1.75922059, -1.75900513,\n",
       "        -1.75879073, -1.75857736, -1.75836501, -1.75815366, -1.7579433 ,\n",
       "        -1.75773392, -1.7575334 , -1.75734564, -1.75715874, -1.75697269,\n",
       "        -1.75681169, -1.75666184, -1.75651272, -1.75636431, -1.75621662,\n",
       "        -1.75610646, -1.75599912, -1.75589236, -1.75578616, -1.75568053,\n",
       "        -1.75557545, -1.75547092, -1.75536693, -1.75526347, -1.75516053,\n",
       "        -1.75505999, -1.75497629, -1.75489304, -1.75481024, -1.75472787,\n",
       "        -1.75465755, -1.75460309, -1.75454898, -1.75449523, -1.75444183,\n",
       "        -1.75438878, -1.75433606, -1.75428369, -1.75423165, -1.75417993,\n",
       "        -1.75412854, -1.75407747, -1.75402672, -1.75397628, -1.75392615,\n",
       "        -1.75387632, -1.7538268 , -1.75377757, -1.75372864, -1.75368   ,\n",
       "        -1.75363164, -1.75358358, -1.75353579, -1.75348828, -1.75344104,\n",
       "        -1.75339408, -1.75334739, -1.75330096, -1.7532548 , -1.7532089 ,\n",
       "        -1.75316326, -1.75311787, -1.75307273, -1.75302785, -1.75298321,\n",
       "        -1.75293881, -1.75289466, -1.75285076, -1.75280708, -1.75276365,\n",
       "        -1.75272045, -1.75269637, -1.75269525, -1.75269429, -1.75269349,\n",
       "        -1.75269286, -1.75269238, -1.75269205, -1.75269188, -1.75269187]),\n",
       " 'split3_test_score': array([-1.64436029, -1.64452433, -1.64468608, -1.64484562, -1.64500623,\n",
       "        -1.64517207, -1.64533587, -1.6454977 , -1.64565759, -1.64584818,\n",
       "        -1.64604401, -1.64626906, -1.64649214, -1.6467133 , -1.64693259,\n",
       "        -1.64715006, -1.64736574, -1.64757969, -1.64779194, -1.64800253,\n",
       "        -1.6482115 , -1.6484189 , -1.64862474, -1.64882908, -1.64903194,\n",
       "        -1.64923335, -1.64943335, -1.64963197, -1.64982924, -1.65002518,\n",
       "        -1.65021983, -1.65041321, -1.65061282, -1.65083297, -1.65105183,\n",
       "        -1.65126944, -1.65148581, -1.65170097, -1.65191494, -1.65212775,\n",
       "        -1.65233941, -1.65254995, -1.65275938, -1.65296773, -1.65317502,\n",
       "        -1.65338126, -1.65358647, -1.65379068, -1.65399389, -1.65419613,\n",
       "        -1.65439741, -1.65459775, -1.65479716, -1.65499566, -1.65520785,\n",
       "        -1.65543039, -1.6556517 , -1.6558718 , -1.65609071, -1.65630846,\n",
       "        -1.65652506, -1.65674053, -1.65695489, -1.65716816, -1.65738035,\n",
       "        -1.65759148, -1.65780157, -1.65801064, -1.65821869, -1.65842575,\n",
       "        -1.65863183, -1.65883695, -1.65904111, -1.65924434, -1.65944664,\n",
       "        -1.65964804, -1.65984853, -1.66004815, -1.66024689, -1.66044478,\n",
       "        -1.66064181, -1.66083801, -1.66103339, -1.66122796, -1.66142172,\n",
       "        -1.66161469, -1.66180689, -1.66199831, -1.66218897, -1.66237888,\n",
       "        -1.66256805, -1.66275649, -1.66294421, -1.66313122, -1.66331752,\n",
       "        -1.66350312, -1.66368804, -1.66387229, -1.66405586, -1.66424445]),\n",
       " 'split4_test_score': array([-1.44638472, -1.44621505, -1.44604803, -1.44588358, -1.44572164,\n",
       "        -1.44557722, -1.44543891, -1.44530275, -1.44516869, -1.44503667,\n",
       "        -1.44490664, -1.44477856, -1.44469275, -1.44461989, -1.44454868,\n",
       "        -1.44448218, -1.44442281, -1.44436499, -1.44430869, -1.44425387,\n",
       "        -1.44420049, -1.44414852, -1.44409792, -1.44404866, -1.44400071,\n",
       "        -1.44395404, -1.44390861, -1.44386441, -1.4438214 , -1.44377955,\n",
       "        -1.44373884, -1.44369924, -1.44366073, -1.44362328, -1.44358688,\n",
       "        -1.44355148, -1.44351709, -1.44348367, -1.4434512 , -1.44341966,\n",
       "        -1.44338904, -1.44335931, -1.44333046, -1.44331432, -1.44334347,\n",
       "        -1.44337286, -1.44340248, -1.44343232, -1.4434624 , -1.44349269,\n",
       "        -1.44352319, -1.44355391, -1.44358483, -1.44361594, -1.44364726,\n",
       "        -1.44367877, -1.44371046, -1.44374234, -1.44377979, -1.44383064,\n",
       "        -1.4438816 , -1.44393268, -1.44399357, -1.44406694, -1.44414037,\n",
       "        -1.44421385, -1.4442874 , -1.44436099, -1.44443464, -1.44450834,\n",
       "        -1.44458209, -1.44465587, -1.44472971, -1.44480358, -1.44487749,\n",
       "        -1.44495143, -1.44502541, -1.44509942, -1.44517346, -1.44524754,\n",
       "        -1.44532163, -1.44539576, -1.4454699 , -1.44554407, -1.44561825,\n",
       "        -1.44569246, -1.44576668, -1.44584092, -1.44591517, -1.44598943,\n",
       "        -1.44606371, -1.44613799, -1.44621228, -1.44628658, -1.44636088,\n",
       "        -1.44643519, -1.4465095 , -1.44658381, -1.44665812, -1.44673244]),\n",
       " 'split5_test_score': array([-1.637097  , -1.63709543, -1.63709224, -1.63708747, -1.63708115,\n",
       "        -1.63708174, -1.6370967 , -1.63711029, -1.63712254, -1.63713349,\n",
       "        -1.63714492, -1.63716286, -1.63717953, -1.63719497, -1.6372092 ,\n",
       "        -1.63722226, -1.63723416, -1.63724494, -1.63725463, -1.63726324,\n",
       "        -1.63727214, -1.63730335, -1.63733754, -1.63737072, -1.63740292,\n",
       "        -1.63743416, -1.63746445, -1.63749382, -1.63752229, -1.63754988,\n",
       "        -1.6375766 , -1.63760247, -1.63762752, -1.63765176, -1.6376752 ,\n",
       "        -1.63769786, -1.63771976, -1.63774092, -1.63776134, -1.63778104,\n",
       "        -1.63780004, -1.63781835, -1.63783599, -1.63785296, -1.63786928,\n",
       "        -1.63788496, -1.63790002, -1.63791446, -1.6379283 , -1.63794154,\n",
       "        -1.63795421, -1.63796631, -1.63797784, -1.63798883, -1.63799928,\n",
       "        -1.6380092 , -1.63801859, -1.63802748, -1.63803586, -1.63804375,\n",
       "        -1.63805116, -1.63805809, -1.63806455, -1.63807055, -1.6380761 ,\n",
       "        -1.6380812 , -1.63808587, -1.63809011, -1.63809392, -1.63809732,\n",
       "        -1.63810031, -1.63810289, -1.63810509, -1.63810689, -1.63810831,\n",
       "        -1.63810935, -1.63811971, -1.63813214, -1.63814419, -1.63815588,\n",
       "        -1.6381672 , -1.63817817, -1.6381888 , -1.63819907, -1.63820901,\n",
       "        -1.63821861, -1.63822788, -1.63823683, -1.63824546, -1.63825377,\n",
       "        -1.63826177, -1.63826947, -1.63827686, -1.63828395, -1.63829075,\n",
       "        -1.63829726, -1.63830348, -1.63830942, -1.63832028, -1.63835416]),\n",
       " 'split6_test_score': array([-1.43097954, -1.43094482, -1.43091148, -1.43087947, -1.43084876,\n",
       "        -1.43081933, -1.43079112, -1.43083518, -1.43091438, -1.43099339,\n",
       "        -1.43107222, -1.43115087, -1.43122934, -1.43130763, -1.43138576,\n",
       "        -1.43146372, -1.43154151, -1.43161914, -1.43169662, -1.43177394,\n",
       "        -1.43185111, -1.43192812, -1.43200499, -1.43208171, -1.43215829,\n",
       "        -1.43223473, -1.43231103, -1.43238719, -1.43246321, -1.43254353,\n",
       "        -1.4326693 , -1.43279481, -1.43292008, -1.4330451 , -1.43316989,\n",
       "        -1.43329443, -1.43343836, -1.43358833, -1.433738  , -1.43388737,\n",
       "        -1.43404295, -1.43421944, -1.43439555, -1.43457129, -1.43474666,\n",
       "        -1.43492165, -1.43509628, -1.43527055, -1.43544446, -1.43561802,\n",
       "        -1.43579133, -1.4359795 , -1.43616733, -1.43635482, -1.43654198,\n",
       "        -1.43672881, -1.43691531, -1.43710149, -1.43728734, -1.43747287,\n",
       "        -1.43765808, -1.43784298, -1.43802756, -1.43821183, -1.43839579,\n",
       "        -1.43857944, -1.43876279, -1.43894583, -1.43912858, -1.43931102,\n",
       "        -1.43949317, -1.43967502, -1.43985657, -1.44003784, -1.44021881,\n",
       "        -1.4403995 , -1.4405799 , -1.44076001, -1.44093984, -1.44111939,\n",
       "        -1.44129866, -1.44147764, -1.44165636, -1.44183479, -1.44201295,\n",
       "        -1.44219084, -1.44236846, -1.4425458 , -1.44272288, -1.44289969,\n",
       "        -1.44307624, -1.44325252, -1.44342853, -1.44360429, -1.44377978,\n",
       "        -1.44395501, -1.44412999, -1.4443047 , -1.44447916, -1.44465337]),\n",
       " 'split7_test_score': array([-1.57457428, -1.57432036, -1.57407034, -1.57382412, -1.57358159,\n",
       "        -1.57334268, -1.57310727, -1.5728753 , -1.57264667, -1.5724213 ,\n",
       "        -1.57219912, -1.57198004, -1.571764  , -1.57155092, -1.57134074,\n",
       "        -1.57113339, -1.5709288 , -1.57072691, -1.57052767, -1.57035424,\n",
       "        -1.57019613, -1.57004044, -1.56988712, -1.56973613, -1.5695874 ,\n",
       "        -1.56944089, -1.56929656, -1.56915435, -1.56901423, -1.56887615,\n",
       "        -1.56874007, -1.56860595, -1.56847375, -1.56834343, -1.56821495,\n",
       "        -1.56808828, -1.56796338, -1.56784022, -1.56771876, -1.56759898,\n",
       "        -1.56748084, -1.5673643 , -1.56725648, -1.56719208, -1.56712865,\n",
       "        -1.56706617, -1.56700464, -1.56694404, -1.56688434, -1.56682554,\n",
       "        -1.56676762, -1.56671057, -1.56665437, -1.566599  , -1.56654447,\n",
       "        -1.56649074, -1.56643781, -1.56638567, -1.56633431, -1.5662837 ,\n",
       "        -1.56623385, -1.56618474, -1.56613635, -1.56608868, -1.56604172,\n",
       "        -1.56599546, -1.56594988, -1.56592275, -1.56590762, -1.56589278,\n",
       "        -1.56587824, -1.5658868 , -1.56589636, -1.56593096, -1.56597638,\n",
       "        -1.566022  , -1.5660678 , -1.56611379, -1.56615996, -1.56620632,\n",
       "        -1.56625286, -1.56629957, -1.56634647, -1.56639353, -1.56644077,\n",
       "        -1.56648818, -1.56653576, -1.5665835 , -1.5666314 , -1.56667947,\n",
       "        -1.5667277 , -1.56677608, -1.56682462, -1.56687332, -1.56692217,\n",
       "        -1.56697117, -1.56702032, -1.56706961, -1.56712113, -1.56717979]),\n",
       " 'split8_test_score': array([-1.51284808, -1.51322469, -1.51359946, -1.51397244, -1.51434365,\n",
       "        -1.51471314, -1.51508095, -1.51544711, -1.51581165, -1.51617461,\n",
       "        -1.51653602, -1.51689592, -1.51725433, -1.51764558, -1.51805845,\n",
       "        -1.51846904, -1.51887739, -1.51928356, -1.51968758, -1.52008951,\n",
       "        -1.52048938, -1.52088723, -1.52128311, -1.52167705, -1.52206909,\n",
       "        -1.52245926, -1.52284761, -1.52323416, -1.52361895, -1.52400201,\n",
       "        -1.52438337, -1.52476307, -1.52514112, -1.52551757, -1.52589243,\n",
       "        -1.52626574, -1.52663752, -1.5270078 , -1.5273766 , -1.52774394,\n",
       "        -1.52810986, -1.52847437, -1.52883749, -1.52919925, -1.52955966,\n",
       "        -1.52991876, -1.53027655, -1.53063306, -1.53098831, -1.53134232,\n",
       "        -1.53169509, -1.53204667, -1.53239705, -1.53275246, -1.53312648,\n",
       "        -1.53349928, -1.53387089, -1.53424132, -1.53461059, -1.5349787 ,\n",
       "        -1.53534568, -1.53571154, -1.5360763 , -1.53643997, -1.5368037 ,\n",
       "        -1.53717148, -1.53753822, -1.53790393, -1.53826864, -1.53863234,\n",
       "        -1.53899506, -1.5393568 , -1.53971758, -1.5400774 , -1.54043628,\n",
       "        -1.54079422, -1.54115124, -1.54150735, -1.54186256, -1.54221688,\n",
       "        -1.54257031, -1.54292287, -1.54327457, -1.54362541, -1.54397541,\n",
       "        -1.54432456, -1.54467289, -1.5450204 , -1.5453671 , -1.54571299,\n",
       "        -1.54605808, -1.54640239, -1.54674986, -1.54711197, -1.54747328,\n",
       "        -1.54783381, -1.54819357, -1.54855255, -1.54891077, -1.54927443]),\n",
       " 'split9_test_score': array([-1.65693552, -1.65693098, -1.65692696, -1.65692343, -1.65692038,\n",
       "        -1.6569178 , -1.65692206, -1.65694351, -1.65696537, -1.65700188,\n",
       "        -1.6570858 , -1.65716913, -1.65725186, -1.65733401, -1.65741559,\n",
       "        -1.65749661, -1.6575771 , -1.65765705, -1.65773648, -1.65781539,\n",
       "        -1.65789504, -1.65799194, -1.65808842, -1.65818451, -1.65828019,\n",
       "        -1.65837548, -1.65847039, -1.65856492, -1.65865908, -1.65875287,\n",
       "        -1.65884631, -1.65893939, -1.65903212, -1.65912452, -1.65921657,\n",
       "        -1.6593083 , -1.6593997 , -1.65949077, -1.65958153, -1.65967198,\n",
       "        -1.65976212, -1.65985196, -1.6599415 , -1.66003075, -1.66011971,\n",
       "        -1.66020838, -1.66029677, -1.66038488, -1.66047272, -1.66056029,\n",
       "        -1.66064759, -1.66073462, -1.6608214 , -1.66090792, -1.66099418,\n",
       "        -1.6610802 , -1.66116597, -1.66125149, -1.6613412 , -1.66143256,\n",
       "        -1.66152367, -1.66161451, -1.6617051 , -1.66179543, -1.66188552,\n",
       "        -1.66197536, -1.66206495, -1.6621543 , -1.66224341, -1.66233228,\n",
       "        -1.66242092, -1.66250932, -1.6625975 , -1.66268545, -1.66277317,\n",
       "        -1.66286067, -1.66294795, -1.66303502, -1.66312186, -1.6632085 ,\n",
       "        -1.66329492, -1.66338113, -1.66346713, -1.66355293, -1.66363852,\n",
       "        -1.66372391, -1.6638091 , -1.66389409, -1.66397889, -1.66406349,\n",
       "        -1.66414789, -1.66423211, -1.66431837, -1.66440757, -1.6644966 ,\n",
       "        -1.66458546, -1.66467415, -1.66476266, -1.66485102, -1.6649392 ]),\n",
       " 'mean_test_score': array([-1.61490304, -1.61489864, -1.6148949 , -1.61489181, -1.61488965,\n",
       "        -1.61489118, -1.6148959 , -1.61490995, -1.61492795, -1.61495103,\n",
       "        -1.61498008, -1.61501329, -1.61505093, -1.61509472, -1.61514134,\n",
       "        -1.61519023, -1.6152398 , -1.61528949, -1.61534057, -1.61539549,\n",
       "        -1.61545205, -1.6155128 , -1.61557406, -1.6156354 , -1.61569683,\n",
       "        -1.61575835, -1.61582074, -1.6158844 , -1.61594812, -1.61601235,\n",
       "        -1.61608362, -1.61615598, -1.61622912, -1.61630754, -1.61638643,\n",
       "        -1.61646902, -1.6165538 , -1.61663921, -1.61672461, -1.61681001,\n",
       "        -1.61689605, -1.61698421, -1.61707305, -1.61716725, -1.61726581,\n",
       "        -1.61736443, -1.61746455, -1.61756452, -1.61766436, -1.61776406,\n",
       "        -1.6178648 , -1.61796878, -1.61807368, -1.61817907, -1.61828775,\n",
       "        -1.61839741, -1.61850689, -1.61861619, -1.61872666, -1.61883874,\n",
       "        -1.61895065, -1.61906237, -1.61917504, -1.61928925, -1.61940339,\n",
       "        -1.61951785, -1.61963214, -1.61974803, -1.61986487, -1.61998149,\n",
       "        -1.62009791, -1.6202164 , -1.62033476, -1.62045538, -1.62057686,\n",
       "        -1.62069942, -1.62082401, -1.62094864, -1.62107305, -1.62119726,\n",
       "        -1.62132126, -1.62144508, -1.62156877, -1.62169303, -1.62181754,\n",
       "        -1.62194185, -1.62206596, -1.62219265, -1.62231951, -1.62244615,\n",
       "        -1.62257257, -1.62270066, -1.62283213, -1.62296681, -1.62310127,\n",
       "        -1.62323551, -1.62336953, -1.62350334, -1.62363766, -1.62377598]),\n",
       " 'std_test_score': array([0.11484658, 0.1148352 , 0.114824  , 0.11481297, 0.11480221,\n",
       "        0.11478974, 0.11477743, 0.11475451, 0.11472632, 0.11469991,\n",
       "        0.11467585, 0.11465313, 0.11462494, 0.11459425, 0.11456235,\n",
       "        0.1145327 , 0.11450264, 0.11447299, 0.114445  , 0.11441788,\n",
       "        0.11439071, 0.114365  , 0.11433973, 0.11431482, 0.11429026,\n",
       "        0.11426604, 0.11424313, 0.11422202, 0.11420121, 0.11417999,\n",
       "        0.11415472, 0.11413103, 0.11410785, 0.11408868, 0.11407025,\n",
       "        0.11405659, 0.1140403 , 0.11402325, 0.11400645, 0.11398989,\n",
       "        0.11397252, 0.113952  , 0.11393141, 0.11390742, 0.11387689,\n",
       "        0.1138469 , 0.11381921, 0.11379182, 0.11376473, 0.11373793,\n",
       "        0.1137128 , 0.11368769, 0.11366394, 0.11363999, 0.1136153 ,\n",
       "        0.11359125, 0.11356746, 0.11354392, 0.11352036, 0.11349537,\n",
       "        0.11347063, 0.11344614, 0.11342058, 0.11339383, 0.11336725,\n",
       "        0.11334053, 0.11331405, 0.11328696, 0.11325956, 0.1132324 ,\n",
       "        0.11320547, 0.11317768, 0.11315008, 0.11312151, 0.11309264,\n",
       "        0.11306536, 0.11303979, 0.11301446, 0.11298934, 0.11296443,\n",
       "        0.11293972, 0.11291523, 0.11289103, 0.11286784, 0.11284533,\n",
       "        0.11282302, 0.11280091, 0.11278242, 0.11276458, 0.1127469 ,\n",
       "        0.11272937, 0.11271417, 0.11270243, 0.11269185, 0.11268142,\n",
       "        0.11267112, 0.11266097, 0.11265095, 0.11264104, 0.112631  ]),\n",
       " 'rank_test_score': array([  7,   6,   4,   3,   1,   2,   5,   8,   9,  10,  11,  12,  13,\n",
       "         14,  15,  16,  17,  18,  19,  20,  21,  22,  23,  24,  25,  26,\n",
       "         27,  28,  29,  30,  31,  32,  33,  34,  35,  36,  37,  38,  39,\n",
       "         40,  41,  42,  43,  44,  45,  46,  47,  48,  49,  50,  51,  52,\n",
       "         53,  54,  55,  56,  57,  58,  59,  60,  61,  62,  63,  64,  65,\n",
       "         66,  67,  68,  69,  70,  71,  72,  73,  74,  75,  76,  77,  78,\n",
       "         79,  80,  81,  82,  83,  84,  85,  86,  87,  88,  89,  90,  91,\n",
       "         92,  93,  94,  95,  96,  97,  98,  99, 100], dtype=int32)}"
      ]
     },
     "execution_count": 72,
     "metadata": {},
     "output_type": "execute_result"
    }
   ],
   "source": [
    "grid_search.cv_results_"
   ]
  },
  {
   "cell_type": "markdown",
   "metadata": {},
   "source": [
    " if you want you can now fit a ridge regression model with obtained value of alpha , although there is no need, grid search automatically fits the best estimator on the entire data, you can directly use this to make predictions on test_data. But if you want to look at coefficients , its much more convenient to fit the model with direct function"
   ]
  },
  {
   "cell_type": "markdown",
   "metadata": {},
   "source": [
    "Using the report function given below you can see the cv performance of top few models as well, that will the tentative performance"
   ]
  },
  {
   "cell_type": "code",
   "execution_count": 73,
   "metadata": {},
   "outputs": [],
   "source": [
    "def report(results, n_top=3):\n",
    "    for i in range(1, n_top + 1):\n",
    "        candidates = np.flatnonzero(results['rank_test_score'] == i)\n",
    "        for candidate in candidates:\n",
    "            print(\"Model with rank: {0}\".format(i))\n",
    "            print(\"Mean validation score: {0:.3f} (std: {1:.3f})\".format(\n",
    "                  results['mean_test_score'][candidate],\n",
    "                  results['std_test_score'][candidate]))\n",
    "            print(\"Parameters: {0}\".format(results['params'][candidate]))\n",
    "            print(\"\")"
   ]
  },
  {
   "cell_type": "code",
   "execution_count": 74,
   "metadata": {},
   "outputs": [
    {
     "name": "stdout",
     "output_type": "stream",
     "text": [
      "Model with rank: 1\n",
      "Mean validation score: -1.615 (std: 0.115)\n",
      "Parameters: {'alpha': 5.0}\n",
      "\n",
      "Model with rank: 2\n",
      "Mean validation score: -1.615 (std: 0.115)\n",
      "Parameters: {'alpha': 6.0}\n",
      "\n",
      "Model with rank: 3\n",
      "Mean validation score: -1.615 (std: 0.115)\n",
      "Parameters: {'alpha': 4.0}\n",
      "\n",
      "Model with rank: 4\n",
      "Mean validation score: -1.615 (std: 0.115)\n",
      "Parameters: {'alpha': 3.0}\n",
      "\n",
      "Model with rank: 5\n",
      "Mean validation score: -1.615 (std: 0.115)\n",
      "Parameters: {'alpha': 7.0}\n",
      "\n",
      "Model with rank: 6\n",
      "Mean validation score: -1.615 (std: 0.115)\n",
      "Parameters: {'alpha': 2.0}\n",
      "\n",
      "Model with rank: 7\n",
      "Mean validation score: -1.615 (std: 0.115)\n",
      "Parameters: {'alpha': 1.0}\n",
      "\n",
      "Model with rank: 8\n",
      "Mean validation score: -1.615 (std: 0.115)\n",
      "Parameters: {'alpha': 8.0}\n",
      "\n",
      "Model with rank: 9\n",
      "Mean validation score: -1.615 (std: 0.115)\n",
      "Parameters: {'alpha': 9.0}\n",
      "\n",
      "Model with rank: 10\n",
      "Mean validation score: -1.615 (std: 0.115)\n",
      "Parameters: {'alpha': 10.0}\n",
      "\n",
      "Model with rank: 11\n",
      "Mean validation score: -1.615 (std: 0.115)\n",
      "Parameters: {'alpha': 11.0}\n",
      "\n",
      "Model with rank: 12\n",
      "Mean validation score: -1.615 (std: 0.115)\n",
      "Parameters: {'alpha': 12.0}\n",
      "\n",
      "Model with rank: 13\n",
      "Mean validation score: -1.615 (std: 0.115)\n",
      "Parameters: {'alpha': 13.0}\n",
      "\n",
      "Model with rank: 14\n",
      "Mean validation score: -1.615 (std: 0.115)\n",
      "Parameters: {'alpha': 14.0}\n",
      "\n",
      "Model with rank: 15\n",
      "Mean validation score: -1.615 (std: 0.115)\n",
      "Parameters: {'alpha': 15.0}\n",
      "\n",
      "Model with rank: 16\n",
      "Mean validation score: -1.615 (std: 0.115)\n",
      "Parameters: {'alpha': 16.0}\n",
      "\n",
      "Model with rank: 17\n",
      "Mean validation score: -1.615 (std: 0.115)\n",
      "Parameters: {'alpha': 17.0}\n",
      "\n",
      "Model with rank: 18\n",
      "Mean validation score: -1.615 (std: 0.114)\n",
      "Parameters: {'alpha': 18.0}\n",
      "\n",
      "Model with rank: 19\n",
      "Mean validation score: -1.615 (std: 0.114)\n",
      "Parameters: {'alpha': 19.0}\n",
      "\n",
      "Model with rank: 20\n",
      "Mean validation score: -1.615 (std: 0.114)\n",
      "Parameters: {'alpha': 20.0}\n",
      "\n",
      "Model with rank: 21\n",
      "Mean validation score: -1.615 (std: 0.114)\n",
      "Parameters: {'alpha': 21.0}\n",
      "\n",
      "Model with rank: 22\n",
      "Mean validation score: -1.616 (std: 0.114)\n",
      "Parameters: {'alpha': 22.0}\n",
      "\n",
      "Model with rank: 23\n",
      "Mean validation score: -1.616 (std: 0.114)\n",
      "Parameters: {'alpha': 23.0}\n",
      "\n",
      "Model with rank: 24\n",
      "Mean validation score: -1.616 (std: 0.114)\n",
      "Parameters: {'alpha': 24.0}\n",
      "\n",
      "Model with rank: 25\n",
      "Mean validation score: -1.616 (std: 0.114)\n",
      "Parameters: {'alpha': 25.0}\n",
      "\n",
      "Model with rank: 26\n",
      "Mean validation score: -1.616 (std: 0.114)\n",
      "Parameters: {'alpha': 26.0}\n",
      "\n",
      "Model with rank: 27\n",
      "Mean validation score: -1.616 (std: 0.114)\n",
      "Parameters: {'alpha': 27.0}\n",
      "\n",
      "Model with rank: 28\n",
      "Mean validation score: -1.616 (std: 0.114)\n",
      "Parameters: {'alpha': 28.0}\n",
      "\n",
      "Model with rank: 29\n",
      "Mean validation score: -1.616 (std: 0.114)\n",
      "Parameters: {'alpha': 29.0}\n",
      "\n",
      "Model with rank: 30\n",
      "Mean validation score: -1.616 (std: 0.114)\n",
      "Parameters: {'alpha': 30.0}\n",
      "\n",
      "Model with rank: 31\n",
      "Mean validation score: -1.616 (std: 0.114)\n",
      "Parameters: {'alpha': 31.0}\n",
      "\n",
      "Model with rank: 32\n",
      "Mean validation score: -1.616 (std: 0.114)\n",
      "Parameters: {'alpha': 32.0}\n",
      "\n",
      "Model with rank: 33\n",
      "Mean validation score: -1.616 (std: 0.114)\n",
      "Parameters: {'alpha': 33.0}\n",
      "\n",
      "Model with rank: 34\n",
      "Mean validation score: -1.616 (std: 0.114)\n",
      "Parameters: {'alpha': 34.0}\n",
      "\n",
      "Model with rank: 35\n",
      "Mean validation score: -1.616 (std: 0.114)\n",
      "Parameters: {'alpha': 35.0}\n",
      "\n",
      "Model with rank: 36\n",
      "Mean validation score: -1.616 (std: 0.114)\n",
      "Parameters: {'alpha': 36.0}\n",
      "\n",
      "Model with rank: 37\n",
      "Mean validation score: -1.617 (std: 0.114)\n",
      "Parameters: {'alpha': 37.0}\n",
      "\n",
      "Model with rank: 38\n",
      "Mean validation score: -1.617 (std: 0.114)\n",
      "Parameters: {'alpha': 38.0}\n",
      "\n",
      "Model with rank: 39\n",
      "Mean validation score: -1.617 (std: 0.114)\n",
      "Parameters: {'alpha': 39.0}\n",
      "\n",
      "Model with rank: 40\n",
      "Mean validation score: -1.617 (std: 0.114)\n",
      "Parameters: {'alpha': 40.0}\n",
      "\n",
      "Model with rank: 41\n",
      "Mean validation score: -1.617 (std: 0.114)\n",
      "Parameters: {'alpha': 41.0}\n",
      "\n",
      "Model with rank: 42\n",
      "Mean validation score: -1.617 (std: 0.114)\n",
      "Parameters: {'alpha': 42.0}\n",
      "\n",
      "Model with rank: 43\n",
      "Mean validation score: -1.617 (std: 0.114)\n",
      "Parameters: {'alpha': 43.0}\n",
      "\n",
      "Model with rank: 44\n",
      "Mean validation score: -1.617 (std: 0.114)\n",
      "Parameters: {'alpha': 44.0}\n",
      "\n",
      "Model with rank: 45\n",
      "Mean validation score: -1.617 (std: 0.114)\n",
      "Parameters: {'alpha': 45.0}\n",
      "\n",
      "Model with rank: 46\n",
      "Mean validation score: -1.617 (std: 0.114)\n",
      "Parameters: {'alpha': 46.0}\n",
      "\n",
      "Model with rank: 47\n",
      "Mean validation score: -1.617 (std: 0.114)\n",
      "Parameters: {'alpha': 47.0}\n",
      "\n",
      "Model with rank: 48\n",
      "Mean validation score: -1.618 (std: 0.114)\n",
      "Parameters: {'alpha': 48.0}\n",
      "\n",
      "Model with rank: 49\n",
      "Mean validation score: -1.618 (std: 0.114)\n",
      "Parameters: {'alpha': 49.0}\n",
      "\n",
      "Model with rank: 50\n",
      "Mean validation score: -1.618 (std: 0.114)\n",
      "Parameters: {'alpha': 50.0}\n",
      "\n",
      "Model with rank: 51\n",
      "Mean validation score: -1.618 (std: 0.114)\n",
      "Parameters: {'alpha': 51.0}\n",
      "\n",
      "Model with rank: 52\n",
      "Mean validation score: -1.618 (std: 0.114)\n",
      "Parameters: {'alpha': 52.0}\n",
      "\n",
      "Model with rank: 53\n",
      "Mean validation score: -1.618 (std: 0.114)\n",
      "Parameters: {'alpha': 53.0}\n",
      "\n",
      "Model with rank: 54\n",
      "Mean validation score: -1.618 (std: 0.114)\n",
      "Parameters: {'alpha': 54.0}\n",
      "\n",
      "Model with rank: 55\n",
      "Mean validation score: -1.618 (std: 0.114)\n",
      "Parameters: {'alpha': 55.0}\n",
      "\n",
      "Model with rank: 56\n",
      "Mean validation score: -1.618 (std: 0.114)\n",
      "Parameters: {'alpha': 56.0}\n",
      "\n",
      "Model with rank: 57\n",
      "Mean validation score: -1.619 (std: 0.114)\n",
      "Parameters: {'alpha': 57.0}\n",
      "\n",
      "Model with rank: 58\n",
      "Mean validation score: -1.619 (std: 0.114)\n",
      "Parameters: {'alpha': 58.0}\n",
      "\n",
      "Model with rank: 59\n",
      "Mean validation score: -1.619 (std: 0.114)\n",
      "Parameters: {'alpha': 59.0}\n",
      "\n",
      "Model with rank: 60\n",
      "Mean validation score: -1.619 (std: 0.113)\n",
      "Parameters: {'alpha': 60.0}\n",
      "\n",
      "Model with rank: 61\n",
      "Mean validation score: -1.619 (std: 0.113)\n",
      "Parameters: {'alpha': 61.0}\n",
      "\n",
      "Model with rank: 62\n",
      "Mean validation score: -1.619 (std: 0.113)\n",
      "Parameters: {'alpha': 62.0}\n",
      "\n",
      "Model with rank: 63\n",
      "Mean validation score: -1.619 (std: 0.113)\n",
      "Parameters: {'alpha': 63.0}\n",
      "\n",
      "Model with rank: 64\n",
      "Mean validation score: -1.619 (std: 0.113)\n",
      "Parameters: {'alpha': 64.0}\n",
      "\n",
      "Model with rank: 65\n",
      "Mean validation score: -1.619 (std: 0.113)\n",
      "Parameters: {'alpha': 65.0}\n",
      "\n",
      "Model with rank: 66\n",
      "Mean validation score: -1.620 (std: 0.113)\n",
      "Parameters: {'alpha': 66.0}\n",
      "\n",
      "Model with rank: 67\n",
      "Mean validation score: -1.620 (std: 0.113)\n",
      "Parameters: {'alpha': 67.0}\n",
      "\n",
      "Model with rank: 68\n",
      "Mean validation score: -1.620 (std: 0.113)\n",
      "Parameters: {'alpha': 68.0}\n",
      "\n",
      "Model with rank: 69\n",
      "Mean validation score: -1.620 (std: 0.113)\n",
      "Parameters: {'alpha': 69.0}\n",
      "\n",
      "Model with rank: 70\n",
      "Mean validation score: -1.620 (std: 0.113)\n",
      "Parameters: {'alpha': 70.0}\n",
      "\n",
      "Model with rank: 71\n",
      "Mean validation score: -1.620 (std: 0.113)\n",
      "Parameters: {'alpha': 71.0}\n",
      "\n",
      "Model with rank: 72\n",
      "Mean validation score: -1.620 (std: 0.113)\n",
      "Parameters: {'alpha': 72.0}\n",
      "\n",
      "Model with rank: 73\n",
      "Mean validation score: -1.620 (std: 0.113)\n",
      "Parameters: {'alpha': 73.0}\n",
      "\n",
      "Model with rank: 74\n",
      "Mean validation score: -1.620 (std: 0.113)\n",
      "Parameters: {'alpha': 74.0}\n",
      "\n",
      "Model with rank: 75\n",
      "Mean validation score: -1.621 (std: 0.113)\n",
      "Parameters: {'alpha': 75.0}\n",
      "\n",
      "Model with rank: 76\n",
      "Mean validation score: -1.621 (std: 0.113)\n",
      "Parameters: {'alpha': 76.0}\n",
      "\n",
      "Model with rank: 77\n",
      "Mean validation score: -1.621 (std: 0.113)\n",
      "Parameters: {'alpha': 77.0}\n",
      "\n",
      "Model with rank: 78\n",
      "Mean validation score: -1.621 (std: 0.113)\n",
      "Parameters: {'alpha': 78.0}\n",
      "\n",
      "Model with rank: 79\n",
      "Mean validation score: -1.621 (std: 0.113)\n",
      "Parameters: {'alpha': 79.0}\n",
      "\n",
      "Model with rank: 80\n",
      "Mean validation score: -1.621 (std: 0.113)\n",
      "Parameters: {'alpha': 80.0}\n",
      "\n",
      "Model with rank: 81\n",
      "Mean validation score: -1.621 (std: 0.113)\n",
      "Parameters: {'alpha': 81.0}\n",
      "\n",
      "Model with rank: 82\n",
      "Mean validation score: -1.621 (std: 0.113)\n",
      "Parameters: {'alpha': 82.0}\n",
      "\n",
      "Model with rank: 83\n",
      "Mean validation score: -1.622 (std: 0.113)\n",
      "Parameters: {'alpha': 83.0}\n",
      "\n",
      "Model with rank: 84\n",
      "Mean validation score: -1.622 (std: 0.113)\n",
      "Parameters: {'alpha': 84.0}\n",
      "\n",
      "Model with rank: 85\n",
      "Mean validation score: -1.622 (std: 0.113)\n",
      "Parameters: {'alpha': 85.0}\n",
      "\n",
      "Model with rank: 86\n",
      "Mean validation score: -1.622 (std: 0.113)\n",
      "Parameters: {'alpha': 86.0}\n",
      "\n",
      "Model with rank: 87\n",
      "Mean validation score: -1.622 (std: 0.113)\n",
      "Parameters: {'alpha': 87.0}\n",
      "\n",
      "Model with rank: 88\n",
      "Mean validation score: -1.622 (std: 0.113)\n",
      "Parameters: {'alpha': 88.0}\n",
      "\n",
      "Model with rank: 89\n",
      "Mean validation score: -1.622 (std: 0.113)\n",
      "Parameters: {'alpha': 89.0}\n",
      "\n",
      "Model with rank: 90\n",
      "Mean validation score: -1.622 (std: 0.113)\n",
      "Parameters: {'alpha': 90.0}\n",
      "\n",
      "Model with rank: 91\n",
      "Mean validation score: -1.623 (std: 0.113)\n",
      "Parameters: {'alpha': 91.0}\n",
      "\n",
      "Model with rank: 92\n",
      "Mean validation score: -1.623 (std: 0.113)\n",
      "Parameters: {'alpha': 92.0}\n",
      "\n",
      "Model with rank: 93\n",
      "Mean validation score: -1.623 (std: 0.113)\n",
      "Parameters: {'alpha': 93.0}\n",
      "\n",
      "Model with rank: 94\n",
      "Mean validation score: -1.623 (std: 0.113)\n",
      "Parameters: {'alpha': 94.0}\n",
      "\n",
      "Model with rank: 95\n",
      "Mean validation score: -1.623 (std: 0.113)\n",
      "Parameters: {'alpha': 95.0}\n",
      "\n",
      "Model with rank: 96\n",
      "Mean validation score: -1.623 (std: 0.113)\n",
      "Parameters: {'alpha': 96.0}\n",
      "\n",
      "Model with rank: 97\n",
      "Mean validation score: -1.623 (std: 0.113)\n",
      "Parameters: {'alpha': 97.0}\n",
      "\n",
      "Model with rank: 98\n",
      "Mean validation score: -1.624 (std: 0.113)\n",
      "Parameters: {'alpha': 98.0}\n",
      "\n",
      "Model with rank: 99\n",
      "Mean validation score: -1.624 (std: 0.113)\n",
      "Parameters: {'alpha': 99.0}\n",
      "\n",
      "Model with rank: 100\n",
      "Mean validation score: -1.624 (std: 0.113)\n",
      "Parameters: {'alpha': 100.0}\n",
      "\n"
     ]
    }
   ],
   "source": [
    "report(grid_search.cv_results_,100)"
   ]
  },
  {
   "cell_type": "code",
   "execution_count": 75,
   "metadata": {},
   "outputs": [],
   "source": [
    "test_pred=grid_search.predict(X_test)"
   ]
  },
  {
   "cell_type": "code",
   "execution_count": 76,
   "metadata": {},
   "outputs": [],
   "source": [
    "pd.DataFrame(test_pred).to_csv(\"mysubmission.csv\",index=False)"
   ]
  }
 ],
 "metadata": {
  "kernelspec": {
   "display_name": "Python 3",
   "language": "python",
   "name": "python3"
  },
  "language_info": {
   "codemirror_mode": {
    "name": "ipython",
    "version": 3
   },
   "file_extension": ".py",
   "mimetype": "text/x-python",
   "name": "python",
   "nbconvert_exporter": "python",
   "pygments_lexer": "ipython3",
   "version": "3.6.5"
  }
 },
 "nbformat": 4,
 "nbformat_minor": 2
}
